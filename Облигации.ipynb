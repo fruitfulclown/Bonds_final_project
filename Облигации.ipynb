{
 "cells": [
  {
   "cell_type": "code",
   "execution_count": 1,
   "id": "9f8811c6",
   "metadata": {},
   "outputs": [],
   "source": [
    "import pandas as pd\n",
    "import numpy as np\n",
    "import io\n",
    "import requests\n",
    "from sklearn.cluster import KMeans\n",
    "import matplotlib.pyplot as plt\n",
    "from sklearn.preprocessing import StandardScaler\n",
    "from sklearn.decomposition import PCA"
   ]
  },
  {
   "cell_type": "markdown",
   "id": "a843da44",
   "metadata": {},
   "source": [
    "### Определение доходности облигаций по данным ММВБ\n",
    "\n",
    "**Цель задания** - определить доходность низкорисковых облигаций ММВБ для клиента с консервативной инвестиционной стратегией.\n",
    "\n",
    "Имеются данные по облигациям, которые торгуются на Московской бирже на текущую дату. Данные загружаются непосредственно с сайта биржи. \n",
    "\n",
    "Работа выполнена в учебных целях для демонстрации навыков анализа данных. \n",
    "В ходе работы имеются некоторые допущения:\n",
    "\n",
    "- Анализ будет произведен лишь рублевых облигаций, российских эмитентов\n",
    "- Период расчета доходности облигаций выбран не более 365 дней с текущей даты\n",
    "- Предполагается, что досрочное гашение облигации с офертой исключено\n",
    "\n",
    "План проекта:\n",
    "\n",
    "1. [Загрузка и предобработка данных](#section1)\n",
    "2. [Кластеризация по распределению купонной доходности](#section2)\n",
    "3. [Расчет дохода последующих купонов по низкорисковым облигациям](#section3)\n",
    "4. [Стратегия инвестирования.  Отбор и рейтингование облигаций.](#section4)"
   ]
  },
  {
   "cell_type": "markdown",
   "id": "3a830f70",
   "metadata": {},
   "source": [
    "<a id = 'section1'></a>\n",
    "### Загрузка и предобработка данных"
   ]
  },
  {
   "cell_type": "code",
   "execution_count": 2,
   "id": "87b98597",
   "metadata": {},
   "outputs": [],
   "source": [
    "bond_url = 'https://iss.moex.com/iss/apps/infogrid/emission/rates.csv?iss.dp=comma&iss.df=%25d.%25m.%25Y&iss.tf=%25H:%25M:%25S&iss.dtf=%25d.%25m.%25Y%20%25H:%25M:%25S&iss.only=rates&limit=unlimited&lang=ru'"
   ]
  },
  {
   "cell_type": "code",
   "execution_count": 3,
   "id": "3fa44ca0",
   "metadata": {},
   "outputs": [],
   "source": [
    "s=requests.get(bond_url).content\n",
    "df = pd.read_csv(io.StringIO(s.decode('windows-1251')), sep=';', header = 1, dtype={'INN':str})"
   ]
  },
  {
   "cell_type": "code",
   "execution_count": 4,
   "id": "db0e055e",
   "metadata": {
    "scrolled": false
   },
   "outputs": [
    {
     "data": {
      "text/plain": [
       "Index(['SECID', 'SHORTNAME', 'NAME', 'TYPENAME', 'ISIN', 'REGNUMBER',\n",
       "       'LISTLEVEL', 'FACEVALUE', 'FACEUNIT', 'ISSUESIZE', 'IS_COLLATERAL',\n",
       "       'IS_EXTERNAL', 'PRIMARY_BOARDID', 'PRIMARY_BOARD_TITLE', 'MATDATE',\n",
       "       'IS_RII', 'ISSUEDATE', 'EVENINGSESSION', 'DURATION',\n",
       "       'IS_QUALIFIED_INVESTORS', 'HIGH_RISK', 'COUPONFREQUENCY', 'YIELDATWAP',\n",
       "       'COUPONDATE', 'COUPONPERCENT', 'COUPONVALUE', 'COUPONDAYSPASSED',\n",
       "       'COUPONDAYSREMAIN', 'COUPONLENGTH', 'ISSUEDATE.1', 'INITIALFACEVALUE',\n",
       "       'SECSUBTYPE', 'STARTDATEMOEX', 'DAYSTOREDEMPTION', 'OFFERDATE',\n",
       "       'EMITENTNAME', 'INN', 'LOTSIZE', 'PRICE', 'PRICE_RUB', 'RTL1', 'RTH1',\n",
       "       'RTL2', 'RTH2', 'RTL3', 'RTH3', 'DISCOUNT1', 'LIMIT1', 'DISCOUNT2',\n",
       "       'LIMIT2', 'DISCOUNT3', 'DISCOUNTL0', 'DISCOUNTH0'],\n",
       "      dtype='object')"
      ]
     },
     "execution_count": 4,
     "metadata": {},
     "output_type": "execute_result"
    }
   ],
   "source": [
    "df.columns"
   ]
  },
  {
   "cell_type": "markdown",
   "id": "d875210b",
   "metadata": {},
   "source": [
    "Для определения доходности облигаций в работе будут использоваться следующие поля:\n",
    "\n",
    " - 'SECID' - Код ценной бумаги,\n",
    " - 'SHORTNAME' - Краткое наименование,\n",
    " - 'NAME' - Полное наименование,\n",
    " - 'TYPENAME' - Типы облигаций,\n",
    " - 'LISTLEVEL' - Уровень листинга,\n",
    " - 'FACEVALUE' - Номинальная стоимость,\n",
    " - 'FACEUNIT' - Валюта,\n",
    " - 'ISSUESIZE' - Объем выпуска,\n",
    " - 'DURATION' - Дюрация,\n",
    " - 'IS_QUALIFIED_INVESTORS' - Признак продукта для квалифицированных инвесторов,\n",
    " - 'HIGH_RISK' - Признак уровня риска,\n",
    " - 'COUPONFREQUENCY' – Число купонов в год,\n",
    " - 'COUPONDATE' - Дата выплаты купона,\n",
    " - 'COUPONPERCENT' - Ставка купона, %,\n",
    " - 'COUPONVALUE' - Сумма купона, в валюте номинала,\n",
    " - 'COUPONDAYSPASSED' - Кол-во дней, прошедших с дня выплаты последнего купона,\n",
    " - 'COUPONDAYSREMAIN' - Оставшиеся дни до выплаты купона,\n",
    " - 'COUPONLENGTH' - Длинна купона в днях,\n",
    " - 'DAYSTOREDEMPTION' - Кол-во дней до гашения,\n",
    " - 'OFFERDATE' - Дата оферты,\n",
    " - 'EMITENTNAME' – наименование эмитента,\n",
    " - 'INN' – ИНН эмитента,\n",
    " - 'PRICE' – Текущий % от FACEVALUE, \n",
    " - 'PRICE_RUB' - Котировка\n",
    "\n",
    "Остальные столбцы для решение нашей задачи менее информативны."
   ]
  },
  {
   "cell_type": "code",
   "execution_count": 5,
   "id": "5d08c28c",
   "metadata": {},
   "outputs": [],
   "source": [
    "df = df[['SECID', 'SHORTNAME', 'NAME', 'TYPENAME', 'LISTLEVEL', 'FACEVALUE', 'FACEUNIT', 'ISSUESIZE','DURATION',\n",
    "         'IS_QUALIFIED_INVESTORS', 'HIGH_RISK', 'COUPONFREQUENCY', 'COUPONDATE', 'COUPONPERCENT',\n",
    "         'COUPONVALUE', 'COUPONDAYSPASSED', 'COUPONDAYSREMAIN','COUPONLENGTH', 'DAYSTOREDEMPTION',\n",
    "         'OFFERDATE', 'EMITENTNAME', 'INN', 'PRICE', 'PRICE_RUB']]"
   ]
  },
  {
   "cell_type": "markdown",
   "id": "6f17a30d",
   "metadata": {},
   "source": [
    "Нас интересуют лишь рублевые облигации, отфильтруем данные в соответсвии с поставленной задачей. Затем оценим качество наших данных."
   ]
  },
  {
   "cell_type": "code",
   "execution_count": 6,
   "id": "e777f802",
   "metadata": {},
   "outputs": [],
   "source": [
    "df = df.query('FACEUNIT == \"RUB\" and TYPENAME != \"Корпоративные еврооблигации\"')"
   ]
  },
  {
   "cell_type": "code",
   "execution_count": 7,
   "id": "d6838495",
   "metadata": {},
   "outputs": [
    {
     "data": {
      "text/plain": [
       "2244"
      ]
     },
     "execution_count": 7,
     "metadata": {},
     "output_type": "execute_result"
    }
   ],
   "source": [
    "len(df)"
   ]
  },
  {
   "cell_type": "code",
   "execution_count": 8,
   "id": "6af5f2e1",
   "metadata": {
    "scrolled": false
   },
   "outputs": [
    {
     "data": {
      "text/plain": [
       "SECID                     0.000000\n",
       "SHORTNAME                 0.000000\n",
       "NAME                      0.000000\n",
       "TYPENAME                  0.000000\n",
       "LISTLEVEL                 0.062834\n",
       "FACEVALUE                 0.000000\n",
       "FACEUNIT                  0.000000\n",
       "ISSUESIZE                 0.007576\n",
       "DURATION                  0.274064\n",
       "IS_QUALIFIED_INVESTORS    0.000000\n",
       "HIGH_RISK                 0.000000\n",
       "COUPONFREQUENCY           0.156417\n",
       "COUPONDATE                0.000891\n",
       "COUPONPERCENT             0.015152\n",
       "COUPONVALUE               0.013815\n",
       "COUPONDAYSPASSED          0.000891\n",
       "COUPONDAYSREMAIN          0.000891\n",
       "COUPONLENGTH              0.000891\n",
       "DAYSTOREDEMPTION          0.012478\n",
       "OFFERDATE                 0.774510\n",
       "EMITENTNAME               0.062834\n",
       "INN                       0.062834\n",
       "PRICE                     0.067736\n",
       "PRICE_RUB                 0.067736\n",
       "dtype: float64"
      ]
     },
     "execution_count": 8,
     "metadata": {},
     "output_type": "execute_result"
    }
   ],
   "source": [
    "df.isna().mean()"
   ]
  },
  {
   "cell_type": "markdown",
   "id": "76e675e4",
   "metadata": {},
   "source": [
    "Имеем достаточное кол-во пропусков в данных, так как данные затрагивают денежную составляющую, то нет смысла что-то выдумывать и искать какие-либо замены для пропусков. Предлагаю поле `OFFERDATE` заменить на булевую переменную есть или нет оферта по бумаге, а сам столбец удалить. Из-за того что в `OFFERDATE` почти все значения пропущены, а \n",
    "\n",
    "*Оферта — предложение о заключении сделки, в котором изложены существенные условия договора, адресованное ограниченному или неограниченному кругу лиц. Если получатель принимает оферту, это означает заключение между сторонами предложенного договора на оговоренных в оферте условиях.*,\n",
    "\n",
    "то логичнее заменить ее на булевую переменную, а не терять значительный объем данных. Пропуски в оставшихся полях просто удалим. Для учебных целей данных достаточно для анализа."
   ]
  },
  {
   "cell_type": "code",
   "execution_count": 9,
   "id": "a1278a90",
   "metadata": {},
   "outputs": [],
   "source": [
    "df['OFFER'] = np.where(df['OFFERDATE'].isnull(), 0, 1)"
   ]
  },
  {
   "cell_type": "code",
   "execution_count": 10,
   "id": "3ca9a161",
   "metadata": {},
   "outputs": [],
   "source": [
    "df = df.drop('OFFERDATE', axis = 1)"
   ]
  },
  {
   "cell_type": "code",
   "execution_count": 11,
   "id": "d807f502",
   "metadata": {},
   "outputs": [],
   "source": [
    "df.dropna(inplace = True)"
   ]
  },
  {
   "cell_type": "code",
   "execution_count": 12,
   "id": "e80951ec",
   "metadata": {},
   "outputs": [
    {
     "data": {
      "text/plain": [
       "SECID                     0.0\n",
       "SHORTNAME                 0.0\n",
       "NAME                      0.0\n",
       "TYPENAME                  0.0\n",
       "LISTLEVEL                 0.0\n",
       "FACEVALUE                 0.0\n",
       "FACEUNIT                  0.0\n",
       "ISSUESIZE                 0.0\n",
       "DURATION                  0.0\n",
       "IS_QUALIFIED_INVESTORS    0.0\n",
       "HIGH_RISK                 0.0\n",
       "COUPONFREQUENCY           0.0\n",
       "COUPONDATE                0.0\n",
       "COUPONPERCENT             0.0\n",
       "COUPONVALUE               0.0\n",
       "COUPONDAYSPASSED          0.0\n",
       "COUPONDAYSREMAIN          0.0\n",
       "COUPONLENGTH              0.0\n",
       "DAYSTOREDEMPTION          0.0\n",
       "EMITENTNAME               0.0\n",
       "INN                       0.0\n",
       "PRICE                     0.0\n",
       "PRICE_RUB                 0.0\n",
       "OFFER                     0.0\n",
       "dtype: float64"
      ]
     },
     "execution_count": 12,
     "metadata": {},
     "output_type": "execute_result"
    }
   ],
   "source": [
    "df.isna().mean()"
   ]
  },
  {
   "cell_type": "code",
   "execution_count": 13,
   "id": "1703d3e1",
   "metadata": {},
   "outputs": [
    {
     "data": {
      "text/plain": [
       "1352"
      ]
     },
     "execution_count": 13,
     "metadata": {},
     "output_type": "execute_result"
    }
   ],
   "source": [
    "len(df)"
   ]
  },
  {
   "cell_type": "markdown",
   "id": "b02ee4e1",
   "metadata": {},
   "source": [
    "Оценим типы данных и приведем их в соответсвие"
   ]
  },
  {
   "cell_type": "code",
   "execution_count": 14,
   "id": "0f4647a4",
   "metadata": {
    "scrolled": false
   },
   "outputs": [
    {
     "name": "stdout",
     "output_type": "stream",
     "text": [
      "<class 'pandas.core.frame.DataFrame'>\n",
      "Int64Index: 1352 entries, 13 to 2335\n",
      "Data columns (total 24 columns):\n",
      " #   Column                  Non-Null Count  Dtype  \n",
      "---  ------                  --------------  -----  \n",
      " 0   SECID                   1352 non-null   object \n",
      " 1   SHORTNAME               1352 non-null   object \n",
      " 2   NAME                    1352 non-null   object \n",
      " 3   TYPENAME                1352 non-null   object \n",
      " 4   LISTLEVEL               1352 non-null   float64\n",
      " 5   FACEVALUE               1352 non-null   object \n",
      " 6   FACEUNIT                1352 non-null   object \n",
      " 7   ISSUESIZE               1352 non-null   float64\n",
      " 8   DURATION                1352 non-null   float64\n",
      " 9   IS_QUALIFIED_INVESTORS  1352 non-null   int64  \n",
      " 10  HIGH_RISK               1352 non-null   int64  \n",
      " 11  COUPONFREQUENCY         1352 non-null   float64\n",
      " 12  COUPONDATE              1352 non-null   object \n",
      " 13  COUPONPERCENT           1352 non-null   object \n",
      " 14  COUPONVALUE             1352 non-null   object \n",
      " 15  COUPONDAYSPASSED        1352 non-null   float64\n",
      " 16  COUPONDAYSREMAIN        1352 non-null   float64\n",
      " 17  COUPONLENGTH            1352 non-null   float64\n",
      " 18  DAYSTOREDEMPTION        1352 non-null   float64\n",
      " 19  EMITENTNAME             1352 non-null   object \n",
      " 20  INN                     1352 non-null   object \n",
      " 21  PRICE                   1352 non-null   object \n",
      " 22  PRICE_RUB               1352 non-null   object \n",
      " 23  OFFER                   1352 non-null   int64  \n",
      "dtypes: float64(8), int64(3), object(13)\n",
      "memory usage: 264.1+ KB\n"
     ]
    }
   ],
   "source": [
    "df.info()"
   ]
  },
  {
   "cell_type": "code",
   "execution_count": 15,
   "id": "b75063ba",
   "metadata": {},
   "outputs": [],
   "source": [
    "wrong_comma = ['FACEVALUE', 'COUPONPERCENT', 'COUPONVALUE', 'PRICE', 'PRICE_RUB']\n",
    "\n",
    "for element in wrong_comma:\n",
    "    df[element] = df[element].str.replace(',' , '.')"
   ]
  },
  {
   "cell_type": "code",
   "execution_count": 16,
   "id": "a4bf6091",
   "metadata": {},
   "outputs": [],
   "source": [
    "df[['FACEVALUE',\n",
    "    'DURATION',\n",
    "    'COUPONPERCENT',\n",
    "    'COUPONVALUE',\n",
    "    'PRICE',\n",
    "    'PRICE_RUB']] = df[['FACEVALUE',\n",
    "                        'DURATION',\n",
    "                        'COUPONPERCENT',\n",
    "                        'COUPONVALUE',\n",
    "                        'PRICE',\n",
    "                        'PRICE_RUB']].astype('float64')"
   ]
  },
  {
   "cell_type": "code",
   "execution_count": 17,
   "id": "cfccb8da",
   "metadata": {},
   "outputs": [],
   "source": [
    "df['COUPONDATE'] = df['COUPONDATE'].astype('datetime64')"
   ]
  },
  {
   "cell_type": "code",
   "execution_count": 18,
   "id": "8e7226d4",
   "metadata": {
    "scrolled": true
   },
   "outputs": [
    {
     "name": "stdout",
     "output_type": "stream",
     "text": [
      "<class 'pandas.core.frame.DataFrame'>\n",
      "Int64Index: 1352 entries, 13 to 2335\n",
      "Data columns (total 24 columns):\n",
      " #   Column                  Non-Null Count  Dtype         \n",
      "---  ------                  --------------  -----         \n",
      " 0   SECID                   1352 non-null   object        \n",
      " 1   SHORTNAME               1352 non-null   object        \n",
      " 2   NAME                    1352 non-null   object        \n",
      " 3   TYPENAME                1352 non-null   object        \n",
      " 4   LISTLEVEL               1352 non-null   float64       \n",
      " 5   FACEVALUE               1352 non-null   float64       \n",
      " 6   FACEUNIT                1352 non-null   object        \n",
      " 7   ISSUESIZE               1352 non-null   float64       \n",
      " 8   DURATION                1352 non-null   float64       \n",
      " 9   IS_QUALIFIED_INVESTORS  1352 non-null   int64         \n",
      " 10  HIGH_RISK               1352 non-null   int64         \n",
      " 11  COUPONFREQUENCY         1352 non-null   float64       \n",
      " 12  COUPONDATE              1352 non-null   datetime64[ns]\n",
      " 13  COUPONPERCENT           1352 non-null   float64       \n",
      " 14  COUPONVALUE             1352 non-null   float64       \n",
      " 15  COUPONDAYSPASSED        1352 non-null   float64       \n",
      " 16  COUPONDAYSREMAIN        1352 non-null   float64       \n",
      " 17  COUPONLENGTH            1352 non-null   float64       \n",
      " 18  DAYSTOREDEMPTION        1352 non-null   float64       \n",
      " 19  EMITENTNAME             1352 non-null   object        \n",
      " 20  INN                     1352 non-null   object        \n",
      " 21  PRICE                   1352 non-null   float64       \n",
      " 22  PRICE_RUB               1352 non-null   float64       \n",
      " 23  OFFER                   1352 non-null   int64         \n",
      "dtypes: datetime64[ns](1), float64(13), int64(3), object(7)\n",
      "memory usage: 264.1+ KB\n"
     ]
    }
   ],
   "source": [
    "df.info()"
   ]
  },
  {
   "cell_type": "code",
   "execution_count": 19,
   "id": "686ab9c2",
   "metadata": {
    "scrolled": true
   },
   "outputs": [
    {
     "data": {
      "text/html": [
       "<div>\n",
       "<style scoped>\n",
       "    .dataframe tbody tr th:only-of-type {\n",
       "        vertical-align: middle;\n",
       "    }\n",
       "\n",
       "    .dataframe tbody tr th {\n",
       "        vertical-align: top;\n",
       "    }\n",
       "\n",
       "    .dataframe thead th {\n",
       "        text-align: right;\n",
       "    }\n",
       "</style>\n",
       "<table border=\"1\" class=\"dataframe\">\n",
       "  <thead>\n",
       "    <tr style=\"text-align: right;\">\n",
       "      <th></th>\n",
       "      <th>SECID</th>\n",
       "      <th>SHORTNAME</th>\n",
       "      <th>NAME</th>\n",
       "      <th>TYPENAME</th>\n",
       "      <th>LISTLEVEL</th>\n",
       "      <th>FACEVALUE</th>\n",
       "      <th>FACEUNIT</th>\n",
       "      <th>ISSUESIZE</th>\n",
       "      <th>DURATION</th>\n",
       "      <th>IS_QUALIFIED_INVESTORS</th>\n",
       "      <th>...</th>\n",
       "      <th>COUPONVALUE</th>\n",
       "      <th>COUPONDAYSPASSED</th>\n",
       "      <th>COUPONDAYSREMAIN</th>\n",
       "      <th>COUPONLENGTH</th>\n",
       "      <th>DAYSTOREDEMPTION</th>\n",
       "      <th>EMITENTNAME</th>\n",
       "      <th>INN</th>\n",
       "      <th>PRICE</th>\n",
       "      <th>PRICE_RUB</th>\n",
       "      <th>OFFER</th>\n",
       "    </tr>\n",
       "  </thead>\n",
       "  <tbody>\n",
       "    <tr>\n",
       "      <th>1250</th>\n",
       "      <td>RU000A101F52</td>\n",
       "      <td>ВТБ Б-1-51</td>\n",
       "      <td>Банк ВТБ (ПАО) Б-1-51</td>\n",
       "      <td>Биржевые облигации</td>\n",
       "      <td>3.0</td>\n",
       "      <td>1000.00</td>\n",
       "      <td>RUB</td>\n",
       "      <td>179874.0</td>\n",
       "      <td>474.0</td>\n",
       "      <td>0</td>\n",
       "      <td>...</td>\n",
       "      <td>0.05</td>\n",
       "      <td>71.0</td>\n",
       "      <td>111.0</td>\n",
       "      <td>182.0</td>\n",
       "      <td>475.0</td>\n",
       "      <td>Банк ВТБ (публичное акционерное общество)</td>\n",
       "      <td>7702070139</td>\n",
       "      <td>89.18</td>\n",
       "      <td>891.82</td>\n",
       "      <td>0</td>\n",
       "    </tr>\n",
       "    <tr>\n",
       "      <th>1594</th>\n",
       "      <td>RU000A102580</td>\n",
       "      <td>ГрупПроБ01</td>\n",
       "      <td>Группа Продовольствие БО-01</td>\n",
       "      <td>Биржевые облигации</td>\n",
       "      <td>3.0</td>\n",
       "      <td>1000.00</td>\n",
       "      <td>RUB</td>\n",
       "      <td>70000.0</td>\n",
       "      <td>329.0</td>\n",
       "      <td>0</td>\n",
       "      <td>...</td>\n",
       "      <td>10.68</td>\n",
       "      <td>10.0</td>\n",
       "      <td>20.0</td>\n",
       "      <td>30.0</td>\n",
       "      <td>350.0</td>\n",
       "      <td>Общество с ограниченной ответственностью \"Груп...</td>\n",
       "      <td>0411137185</td>\n",
       "      <td>100.67</td>\n",
       "      <td>1010.62</td>\n",
       "      <td>0</td>\n",
       "    </tr>\n",
       "    <tr>\n",
       "      <th>411</th>\n",
       "      <td>RU000A0JXLR8</td>\n",
       "      <td>ОткрФКБОП3</td>\n",
       "      <td>ПАО ОТКРЫТИЕ ФК Банк БО-П03</td>\n",
       "      <td>Биржевые облигации</td>\n",
       "      <td>1.0</td>\n",
       "      <td>1000.00</td>\n",
       "      <td>RUB</td>\n",
       "      <td>10000000.0</td>\n",
       "      <td>512.0</td>\n",
       "      <td>0</td>\n",
       "      <td>...</td>\n",
       "      <td>32.26</td>\n",
       "      <td>22.0</td>\n",
       "      <td>162.0</td>\n",
       "      <td>184.0</td>\n",
       "      <td>530.0</td>\n",
       "      <td>Публичное акционерное общество Банк \"Финансова...</td>\n",
       "      <td>7706092528</td>\n",
       "      <td>96.92</td>\n",
       "      <td>973.23</td>\n",
       "      <td>0</td>\n",
       "    </tr>\n",
       "    <tr>\n",
       "      <th>1286</th>\n",
       "      <td>RU000A101HU5</td>\n",
       "      <td>Брус 1P01</td>\n",
       "      <td>Брусника 001P-01</td>\n",
       "      <td>Биржевые облигации</td>\n",
       "      <td>3.0</td>\n",
       "      <td>1000.00</td>\n",
       "      <td>RUB</td>\n",
       "      <td>4000000.0</td>\n",
       "      <td>341.0</td>\n",
       "      <td>0</td>\n",
       "      <td>...</td>\n",
       "      <td>27.42</td>\n",
       "      <td>48.0</td>\n",
       "      <td>43.0</td>\n",
       "      <td>91.0</td>\n",
       "      <td>498.0</td>\n",
       "      <td>Общество с ограниченной ответственностью \"Брус...</td>\n",
       "      <td>6685151087</td>\n",
       "      <td>100.33</td>\n",
       "      <td>1018.07</td>\n",
       "      <td>0</td>\n",
       "    </tr>\n",
       "    <tr>\n",
       "      <th>199</th>\n",
       "      <td>RU000A0JV508</td>\n",
       "      <td>ИА ТФБ1 А</td>\n",
       "      <td>ЗАО ИА ТФБ1 кл.А</td>\n",
       "      <td>Корпоративные облигации</td>\n",
       "      <td>3.0</td>\n",
       "      <td>26.23</td>\n",
       "      <td>RUB</td>\n",
       "      <td>2382831.0</td>\n",
       "      <td>3383.0</td>\n",
       "      <td>0</td>\n",
       "      <td>...</td>\n",
       "      <td>0.72</td>\n",
       "      <td>31.0</td>\n",
       "      <td>60.0</td>\n",
       "      <td>91.0</td>\n",
       "      <td>9281.0</td>\n",
       "      <td>Закрытое акционерное общество \"Ипотечный агент...</td>\n",
       "      <td>7704860051</td>\n",
       "      <td>109.98</td>\n",
       "      <td>29.10</td>\n",
       "      <td>0</td>\n",
       "    </tr>\n",
       "  </tbody>\n",
       "</table>\n",
       "<p>5 rows × 24 columns</p>\n",
       "</div>"
      ],
      "text/plain": [
       "             SECID   SHORTNAME                         NAME  \\\n",
       "1250  RU000A101F52  ВТБ Б-1-51        Банк ВТБ (ПАО) Б-1-51   \n",
       "1594  RU000A102580  ГрупПроБ01  Группа Продовольствие БО-01   \n",
       "411   RU000A0JXLR8  ОткрФКБОП3  ПАО ОТКРЫТИЕ ФК Банк БО-П03   \n",
       "1286  RU000A101HU5   Брус 1P01             Брусника 001P-01   \n",
       "199   RU000A0JV508   ИА ТФБ1 А             ЗАО ИА ТФБ1 кл.А   \n",
       "\n",
       "                     TYPENAME  LISTLEVEL  FACEVALUE FACEUNIT   ISSUESIZE  \\\n",
       "1250       Биржевые облигации        3.0    1000.00      RUB    179874.0   \n",
       "1594       Биржевые облигации        3.0    1000.00      RUB     70000.0   \n",
       "411        Биржевые облигации        1.0    1000.00      RUB  10000000.0   \n",
       "1286       Биржевые облигации        3.0    1000.00      RUB   4000000.0   \n",
       "199   Корпоративные облигации        3.0      26.23      RUB   2382831.0   \n",
       "\n",
       "      DURATION  IS_QUALIFIED_INVESTORS  ...  COUPONVALUE  COUPONDAYSPASSED  \\\n",
       "1250     474.0                       0  ...         0.05              71.0   \n",
       "1594     329.0                       0  ...        10.68              10.0   \n",
       "411      512.0                       0  ...        32.26              22.0   \n",
       "1286     341.0                       0  ...        27.42              48.0   \n",
       "199     3383.0                       0  ...         0.72              31.0   \n",
       "\n",
       "     COUPONDAYSREMAIN  COUPONLENGTH  DAYSTOREDEMPTION  \\\n",
       "1250            111.0         182.0             475.0   \n",
       "1594             20.0          30.0             350.0   \n",
       "411             162.0         184.0             530.0   \n",
       "1286             43.0          91.0             498.0   \n",
       "199              60.0          91.0            9281.0   \n",
       "\n",
       "                                            EMITENTNAME         INN   PRICE  \\\n",
       "1250          Банк ВТБ (публичное акционерное общество)  7702070139   89.18   \n",
       "1594  Общество с ограниченной ответственностью \"Груп...  0411137185  100.67   \n",
       "411   Публичное акционерное общество Банк \"Финансова...  7706092528   96.92   \n",
       "1286  Общество с ограниченной ответственностью \"Брус...  6685151087  100.33   \n",
       "199   Закрытое акционерное общество \"Ипотечный агент...  7704860051  109.98   \n",
       "\n",
       "      PRICE_RUB OFFER  \n",
       "1250     891.82     0  \n",
       "1594    1010.62     0  \n",
       "411      973.23     0  \n",
       "1286    1018.07     0  \n",
       "199       29.10     0  \n",
       "\n",
       "[5 rows x 24 columns]"
      ]
     },
     "execution_count": 19,
     "metadata": {},
     "output_type": "execute_result"
    }
   ],
   "source": [
    "df.sample(5)"
   ]
  },
  {
   "cell_type": "markdown",
   "id": "b44f58ec",
   "metadata": {},
   "source": [
    "<a id = 'section2'></a>\n",
    "### Кластеризация по распределению купонной доходности\n"
   ]
  },
  {
   "cell_type": "markdown",
   "id": "3aa43a87",
   "metadata": {},
   "source": [
    "В своей работе я выбрал 3 основных показателя для определения кластеров. Так как необходимо оценить распределение купонного дохода, то смотрел исключительно на возможность преумножить свой доход. В расчет разделения надежность эмитента не принималась во внимание.\n",
    "\n",
    " - **'COUPONPERCENT'** - Ставка купона, %,\n",
    " - **'COUPONFREQUENCY'** - Число купонов в год,\n",
    " - **'DURATION'** - Дюрация\n",
    "\n",
    "В первую очередь мы смотрим на доходность о чем говорит ставка купона. Частота выплата купонов нам так же интересна, так как это подсказывает нам о частоте реинвестерования собственных средств. Сложнее всего было определиться с последним признаком. Пришел ко мнению что Дюрация - агрегированный показатель, который мне подходит.\n",
    "Дюрация показывает среднее время, за которое мы полностью вернем свои вложения в облигации. Таким образом очевидно, что при прочих равных условиях нужно выбирать облигации с меньшей дюрацией, или сроком возврата средств. Дюрация откликация на изменение коньюктуры рынка и позволяет объективно оценить срок возврата инвестиций.\n",
    "\n",
    "Посмотрим для начала как распределена ставки купона, так как это основной показатель доходности"
   ]
  },
  {
   "cell_type": "code",
   "execution_count": 20,
   "id": "18359c19",
   "metadata": {
    "scrolled": true
   },
   "outputs": [
    {
     "data": {
      "image/png": "[encoded data removed]",
      "text/plain": [
       "<Figure size 720x360 with 1 Axes>"
      ]
     },
     "metadata": {
      "needs_background": "light"
     },
     "output_type": "display_data"
    }
   ],
   "source": [
    "plt.figure(figsize = (10,5))\n",
    "df['COUPONPERCENT'].hist(bins = 30)\n",
    "plt.xlabel('Велечина купона')\n",
    "plt.title('Распределение купона рублевых облигаций')\n",
    "plt.show()"
   ]
  },
  {
   "cell_type": "markdown",
   "id": "b881dfba",
   "metadata": {},
   "source": [
    "Определенно имеется выброс возле 0. Попробуем разобраться что это такое."
   ]
  },
  {
   "cell_type": "code",
   "execution_count": 21,
   "id": "be444489",
   "metadata": {
    "scrolled": true
   },
   "outputs": [
    {
     "data": {
      "text/plain": [
       "Банк ВТБ (публичное акционерное общество)                                                      127\n",
       "Публичное акционерное общество \"Сбербанк России\"                                                34\n",
       "Акционерное общество \"Открытие Холдинг\"                                                         11\n",
       "Публичное акционерное общество Банк \"Финансовая Корпорация Открытие\"                             9\n",
       "\"МОСКОВСКИЙ КРЕДИТНЫЙ БАНК\" (публичное акционерное общество)                                     6\n",
       "Общество с ограниченной ответственностью \"ИКС 5 ФИНАНС\"                                          2\n",
       "Публичное акционерное общество \"Федеральная гидрогенерирующая компания - РусГидро\"               2\n",
       "\"Газпромбанк\" (Акционерное общество)                                                             2\n",
       "Общество с ограниченной ответственностью \"Финанс-менеджмент\"                                     1\n",
       "Общество с ограниченной ответственностью \"ДелоПортс\"                                             1\n",
       "Акционерное общество \"Первый контейнерный терминал\"                                              1\n",
       "Банк ЗЕНИТ (публичное акционерное общество)                                                      1\n",
       "Публичное акционерное общество \"МОСТОТРЕСТ\"                                                      1\n",
       "МЕЖДУНАРОДНЫЙ ИНВЕСТИЦИОННЫЙ БАНК                                                                1\n",
       "Публичное акционерное общество \"ТРАНСКАПИТАЛБАНК\"                                                1\n",
       "Публичное акционерное общество \"Вторая генерирующая компания оптового рынка электроэнергии\"      1\n",
       "Акционерный Коммерческий банк \"АВАНГАРД\" - публичное акционерное общество                        1\n",
       "Общество с ограниченной ответственностью \"ДЭНИ КОЛЛ\"                                             1\n",
       "Публичное акционерное общество \"РУСАЛ Братский алюминиевый завод\"                                1\n",
       "Name: EMITENTNAME, dtype: int64"
      ]
     },
     "execution_count": 21,
     "metadata": {},
     "output_type": "execute_result"
    }
   ],
   "source": [
    "df.query('COUPONPERCENT < 1')['EMITENTNAME'].value_counts()"
   ]
  },
  {
   "cell_type": "markdown",
   "id": "584cb18d",
   "metadata": {},
   "source": [
    "После блужданий в интернете, я понял что это в итоге сложно структурируемые облигации\n",
    "\n",
    "Структурные облигации — это облигации, выплаты по которым (доход, выплаты при погашении, а также рыночная цена) зависят от того, наступило или не наступило одно либо сразу несколько событий. При этом размер выплат при погашении такой облигации может быть меньше номинальной стоимости, как и цена на вторичном рынке.\n",
    "\n",
    "Другими словами, в структурных облигациях  заложена торговая стратегия, и если ее условия выполняются, то инвестор получает прибыль, а если нет, то он может лишиться не только дохода, но и вложенных денег. Событиями, которые влияют на выплаты, могут быть:\n",
    "\n",
    "* изменение цен на товары и ценные бумаги   либо индексов, курсов валют и другого. Когда речь идет об изменении цен на инструмент на бирже, то этот инструмент называется базовым активом;\n",
    "\n",
    "* изменение процентных ставок и уровня инфляции;\n",
    "\n",
    "* исполнение или, наоборот, ненадлежащее исполнение государствами, муниципальными образованиями или компаниями своих обязанностей. В последнем случае облигации служат страховкой;\n",
    "\n",
    "* другие обстоятельства, которые определяются законом и Банком России.\n",
    "\n",
    "Выпускать подобные бумаги могут только банки, инвестиционные компании, брокеры и дилеры. Любые облигации бывают купонные и бескупонные (дисконтные). По первым эмитент  периодически выплачивает купоны. По дисконтным облигациям инвестор не будет получать купонный доход. Такие бумаги продаются ниже номинальной стоимости. Чем ближе дата их погашения, тем выше будет их цена, а в конце срока достигнет номинальной, поэтому инвестор может заработать на разнице цены покупки и погашения.\n",
    "\n",
    "По структурным облигациям могут выплачивать базовый купонный доход, который обычно составляет **0,01%**, но его могут и не платить. Основной доход по таким бумагам — дополнительный, который как раз и зависит от динамики базового актива и определенного события. Кроме того, на него влияет коэффициент участия, который показывает, какой процент от роста базового актива получит инвестор. Он устанавливается в день размещения облигаций на бирже.\n",
    "\n",
    "Определенно это отдельный кластер, сначала хотел его разметить, но в итоге K-mean сам его выделил"
   ]
  },
  {
   "cell_type": "code",
   "execution_count": 22,
   "id": "86749354",
   "metadata": {
    "scrolled": true
   },
   "outputs": [
    {
     "data": {
      "image/png": "[encoded data removed]",
      "text/plain": [
       "<Figure size 720x360 with 1 Axes>"
      ]
     },
     "metadata": {
      "needs_background": "light"
     },
     "output_type": "display_data"
    }
   ],
   "source": [
    "plt.figure(figsize = (10,5))\n",
    "df['DURATION'].hist(bins = 200)\n",
    "plt.xlabel('Велечина дюрации')\n",
    "plt.title('Распределение дюрации')\n",
    "plt.show()"
   ]
  },
  {
   "cell_type": "code",
   "execution_count": 23,
   "id": "1fd5d503",
   "metadata": {},
   "outputs": [],
   "source": [
    "df['DURATION_LVL'] = pd.qcut(df.DURATION, q=4, labels=False )"
   ]
  },
  {
   "cell_type": "markdown",
   "id": "1881c869",
   "metadata": {},
   "source": [
    "Данные шумноваты, для удобства разметил дюрацию на уровни:\n",
    "- 0 - низкий уровень ,\n",
    "- 1 - средний уровень,\n",
    "- 2 - умеренный уровень, \n",
    "- 3 - высокий уровень "
   ]
  },
  {
   "cell_type": "code",
   "execution_count": 24,
   "id": "671d9f2a",
   "metadata": {
    "scrolled": false
   },
   "outputs": [
    {
     "data": {
      "text/plain": [
       "Index(['SECID', 'SHORTNAME', 'NAME', 'TYPENAME', 'LISTLEVEL', 'FACEVALUE',\n",
       "       'FACEUNIT', 'ISSUESIZE', 'DURATION', 'IS_QUALIFIED_INVESTORS',\n",
       "       'HIGH_RISK', 'COUPONFREQUENCY', 'COUPONDATE', 'COUPONPERCENT',\n",
       "       'COUPONVALUE', 'COUPONDAYSPASSED', 'COUPONDAYSREMAIN', 'COUPONLENGTH',\n",
       "       'DAYSTOREDEMPTION', 'EMITENTNAME', 'INN', 'PRICE', 'PRICE_RUB', 'OFFER',\n",
       "       'DURATION_LVL'],\n",
       "      dtype='object')"
      ]
     },
     "execution_count": 24,
     "metadata": {},
     "output_type": "execute_result"
    }
   ],
   "source": [
    "df.columns"
   ]
  },
  {
   "cell_type": "code",
   "execution_count": 25,
   "id": "ca8554c8",
   "metadata": {},
   "outputs": [],
   "source": [
    "df_cluster = df[['COUPONPERCENT', 'COUPONFREQUENCY', 'DURATION_LVL']]"
   ]
  },
  {
   "cell_type": "markdown",
   "id": "223d2ce8",
   "metadata": {},
   "source": [
    "Масштабируем данные и с помощью метода локтя найдем оптимальное число кластеров"
   ]
  },
  {
   "cell_type": "code",
   "execution_count": 26,
   "id": "b234ad20",
   "metadata": {},
   "outputs": [],
   "source": [
    "df_cluster_scaler = StandardScaler()\n",
    "df_cluster = df_cluster_scaler.fit_transform(df_cluster)"
   ]
  },
  {
   "cell_type": "code",
   "execution_count": 27,
   "id": "2483fa99",
   "metadata": {},
   "outputs": [],
   "source": [
    "distortion = []\n",
    "K = range(1, 8)\n",
    "for k in K:\n",
    "    model = KMeans(n_clusters=k, random_state=42)\n",
    "    model.fit(df_cluster)\n",
    "    distortion.append(model.inertia_)"
   ]
  },
  {
   "cell_type": "code",
   "execution_count": 28,
   "id": "d7d4c269",
   "metadata": {},
   "outputs": [
    {
     "data": {
      "image/png": "[encoded data removed]",
      "text/plain": [
       "<Figure size 864x576 with 1 Axes>"
      ]
     },
     "metadata": {
      "needs_background": "light"
     },
     "output_type": "display_data"
    }
   ],
   "source": [
    "plt.figure(figsize=(12, 8))\n",
    "plt.plot(K, distortion, 'bx-')\n",
    "plt.xlabel('Число кластеров')\n",
    "plt.ylabel('Значение целевой функции')\n",
    "plt.show()"
   ]
  },
  {
   "cell_type": "code",
   "execution_count": 29,
   "id": "b3554f59",
   "metadata": {
    "scrolled": true
   },
   "outputs": [
    {
     "data": {
      "text/plain": [
       "KMeans(n_clusters=4, random_state=42)"
      ]
     },
     "execution_count": 29,
     "metadata": {},
     "output_type": "execute_result"
    }
   ],
   "source": [
    "model = KMeans(n_clusters=4, random_state=42)\n",
    "model.fit(df_cluster)"
   ]
  },
  {
   "cell_type": "code",
   "execution_count": 30,
   "id": "10ff4487",
   "metadata": {
    "scrolled": true
   },
   "outputs": [
    {
     "data": {
      "text/plain": [
       "array([2, 1, 2, ..., 3, 3, 3], dtype=int32)"
      ]
     },
     "execution_count": 30,
     "metadata": {},
     "output_type": "execute_result"
    }
   ],
   "source": [
    "pred = model.predict(df_cluster)\n",
    "pred"
   ]
  },
  {
   "cell_type": "code",
   "execution_count": 31,
   "id": "946b9147",
   "metadata": {},
   "outputs": [],
   "source": [
    "df['Cluster_id'] = pred"
   ]
  },
  {
   "cell_type": "code",
   "execution_count": 32,
   "id": "dbfda7bd",
   "metadata": {
    "scrolled": true
   },
   "outputs": [
    {
     "data": {
      "text/plain": [
       "2    0.392012\n",
       "1    0.372781\n",
       "3    0.160503\n",
       "0    0.074704\n",
       "Name: Cluster_id, dtype: float64"
      ]
     },
     "execution_count": 32,
     "metadata": {},
     "output_type": "execute_result"
    }
   ],
   "source": [
    "df['Cluster_id'].value_counts(normalize = True)"
   ]
  },
  {
   "cell_type": "code",
   "execution_count": 33,
   "id": "a31673df",
   "metadata": {
    "scrolled": false
   },
   "outputs": [
    {
     "data": {
      "text/html": [
       "<div>\n",
       "<style scoped>\n",
       "    .dataframe tbody tr th:only-of-type {\n",
       "        vertical-align: middle;\n",
       "    }\n",
       "\n",
       "    .dataframe tbody tr th {\n",
       "        vertical-align: top;\n",
       "    }\n",
       "\n",
       "    .dataframe thead th {\n",
       "        text-align: right;\n",
       "    }\n",
       "</style>\n",
       "<table border=\"1\" class=\"dataframe\">\n",
       "  <thead>\n",
       "    <tr style=\"text-align: right;\">\n",
       "      <th></th>\n",
       "      <th>COUPONPERCENT</th>\n",
       "      <th>COUPONFREQUENCY</th>\n",
       "      <th>DURATION_LVL</th>\n",
       "      <th>Cluster_id</th>\n",
       "    </tr>\n",
       "  </thead>\n",
       "  <tbody>\n",
       "    <tr>\n",
       "      <th>526</th>\n",
       "      <td>14.00</td>\n",
       "      <td>12.0</td>\n",
       "      <td>0</td>\n",
       "      <td>0</td>\n",
       "    </tr>\n",
       "    <tr>\n",
       "      <th>646</th>\n",
       "      <td>14.50</td>\n",
       "      <td>12.0</td>\n",
       "      <td>0</td>\n",
       "      <td>0</td>\n",
       "    </tr>\n",
       "    <tr>\n",
       "      <th>668</th>\n",
       "      <td>13.00</td>\n",
       "      <td>12.0</td>\n",
       "      <td>1</td>\n",
       "      <td>0</td>\n",
       "    </tr>\n",
       "    <tr>\n",
       "      <th>677</th>\n",
       "      <td>12.25</td>\n",
       "      <td>12.0</td>\n",
       "      <td>0</td>\n",
       "      <td>0</td>\n",
       "    </tr>\n",
       "    <tr>\n",
       "      <th>760</th>\n",
       "      <td>12.50</td>\n",
       "      <td>12.0</td>\n",
       "      <td>0</td>\n",
       "      <td>0</td>\n",
       "    </tr>\n",
       "    <tr>\n",
       "      <th>...</th>\n",
       "      <td>...</td>\n",
       "      <td>...</td>\n",
       "      <td>...</td>\n",
       "      <td>...</td>\n",
       "    </tr>\n",
       "    <tr>\n",
       "      <th>2259</th>\n",
       "      <td>13.00</td>\n",
       "      <td>12.0</td>\n",
       "      <td>3</td>\n",
       "      <td>0</td>\n",
       "    </tr>\n",
       "    <tr>\n",
       "      <th>2262</th>\n",
       "      <td>12.25</td>\n",
       "      <td>12.0</td>\n",
       "      <td>3</td>\n",
       "      <td>0</td>\n",
       "    </tr>\n",
       "    <tr>\n",
       "      <th>2267</th>\n",
       "      <td>12.60</td>\n",
       "      <td>12.0</td>\n",
       "      <td>3</td>\n",
       "      <td>0</td>\n",
       "    </tr>\n",
       "    <tr>\n",
       "      <th>2269</th>\n",
       "      <td>13.00</td>\n",
       "      <td>12.0</td>\n",
       "      <td>2</td>\n",
       "      <td>0</td>\n",
       "    </tr>\n",
       "    <tr>\n",
       "      <th>2276</th>\n",
       "      <td>12.50</td>\n",
       "      <td>12.0</td>\n",
       "      <td>2</td>\n",
       "      <td>0</td>\n",
       "    </tr>\n",
       "  </tbody>\n",
       "</table>\n",
       "<p>101 rows × 4 columns</p>\n",
       "</div>"
      ],
      "text/plain": [
       "      COUPONPERCENT  COUPONFREQUENCY  DURATION_LVL  Cluster_id\n",
       "526           14.00             12.0             0           0\n",
       "646           14.50             12.0             0           0\n",
       "668           13.00             12.0             1           0\n",
       "677           12.25             12.0             0           0\n",
       "760           12.50             12.0             0           0\n",
       "...             ...              ...           ...         ...\n",
       "2259          13.00             12.0             3           0\n",
       "2262          12.25             12.0             3           0\n",
       "2267          12.60             12.0             3           0\n",
       "2269          13.00             12.0             2           0\n",
       "2276          12.50             12.0             2           0\n",
       "\n",
       "[101 rows x 4 columns]"
      ]
     },
     "execution_count": 33,
     "metadata": {},
     "output_type": "execute_result"
    }
   ],
   "source": [
    "df[['COUPONPERCENT', 'COUPONFREQUENCY', 'DURATION_LVL',\n",
    "    'Cluster_id']].query('Cluster_id == 0')"
   ]
  },
  {
   "cell_type": "code",
   "execution_count": 34,
   "id": "36685516",
   "metadata": {},
   "outputs": [],
   "source": [
    "cluster_0 = df.query('Cluster_id == 0')\n",
    "cluster_1 = df.query('Cluster_id == 1')\n",
    "cluster_2 = df.query('Cluster_id == 2')\n",
    "cluster_3 = df.query('Cluster_id == 3')"
   ]
  },
  {
   "cell_type": "code",
   "execution_count": 35,
   "id": "ce5880ee",
   "metadata": {},
   "outputs": [],
   "source": [
    "df_cluster = df[['COUPONPERCENT', 'COUPONFREQUENCY', 'DURATION_LVL']]"
   ]
  },
  {
   "cell_type": "code",
   "execution_count": 36,
   "id": "f9da1162",
   "metadata": {},
   "outputs": [],
   "source": [
    "df_cluster_scaler = StandardScaler()\n",
    "df_cluster = df_cluster_scaler.fit_transform(df_cluster)"
   ]
  },
  {
   "cell_type": "code",
   "execution_count": 37,
   "id": "0af0d8f2",
   "metadata": {},
   "outputs": [],
   "source": [
    "pca = PCA(2)"
   ]
  },
  {
   "cell_type": "code",
   "execution_count": 38,
   "id": "dd3556a5",
   "metadata": {},
   "outputs": [],
   "source": [
    "df_pca = pca.fit_transform(df_cluster)"
   ]
  },
  {
   "cell_type": "code",
   "execution_count": 39,
   "id": "79be0e9b",
   "metadata": {},
   "outputs": [],
   "source": [
    "df_graphic = pd.DataFrame(df_pca, columns = ['x','y'])"
   ]
  },
  {
   "cell_type": "code",
   "execution_count": 40,
   "id": "a5a189b8",
   "metadata": {},
   "outputs": [],
   "source": [
    "df_graphic['Cluster_id'] = pred"
   ]
  },
  {
   "cell_type": "code",
   "execution_count": 41,
   "id": "6520d630",
   "metadata": {
    "scrolled": false
   },
   "outputs": [
    {
     "data": {
      "image/png": "[encoded data removed]",
      "text/plain": [
       "<Figure size 1080x360 with 1 Axes>"
      ]
     },
     "metadata": {
      "needs_background": "light"
     },
     "output_type": "display_data"
    }
   ],
   "source": [
    "plt.figure(figsize = (15,5))\n",
    "for i in df_graphic.Cluster_id.unique():\n",
    "    plt.scatter(df_graphic[df_graphic['Cluster_id'] == i]['x'],\n",
    "                df_graphic[df_graphic['Cluster_id'] == i]['y'], label = i, alpha = 0.8)\n",
    "plt.legend()\n",
    "plt.show()"
   ]
  },
  {
   "cell_type": "code",
   "execution_count": 42,
   "id": "3927824b",
   "metadata": {
    "scrolled": true
   },
   "outputs": [
    {
     "data": {
      "text/plain": [
       "12.0    1.0\n",
       "Name: COUPONFREQUENCY, dtype: float64"
      ]
     },
     "execution_count": 42,
     "metadata": {},
     "output_type": "execute_result"
    }
   ],
   "source": [
    "cluster_0['COUPONFREQUENCY'].value_counts(normalize = True)"
   ]
  },
  {
   "cell_type": "code",
   "execution_count": 43,
   "id": "301088ba",
   "metadata": {
    "scrolled": true
   },
   "outputs": [
    {
     "data": {
      "text/plain": [
       "2    0.326733\n",
       "0    0.257426\n",
       "1    0.247525\n",
       "3    0.168317\n",
       "Name: DURATION_LVL, dtype: float64"
      ]
     },
     "execution_count": 43,
     "metadata": {},
     "output_type": "execute_result"
    }
   ],
   "source": [
    "cluster_0['DURATION_LVL'].value_counts(normalize = True)"
   ]
  },
  {
   "cell_type": "code",
   "execution_count": 44,
   "id": "6482b8e9",
   "metadata": {},
   "outputs": [
    {
     "data": {
      "text/plain": [
       "11.867564356435642"
      ]
     },
     "execution_count": 44,
     "metadata": {},
     "output_type": "execute_result"
    }
   ],
   "source": [
    "cluster_0['COUPONPERCENT'].mean()"
   ]
  },
  {
   "cell_type": "markdown",
   "id": "876c390f",
   "metadata": {},
   "source": [
    "*  `Красный кластер` - включил в себя облигации с ежемесячной выплатой купона со средним занчением около 12% годовых. Уровни дюрации распределились более менее равномерно, есть небольшой перекос в сторону умеренной дюрации"
   ]
  },
  {
   "cell_type": "code",
   "execution_count": 45,
   "id": "4f4f548f",
   "metadata": {},
   "outputs": [
    {
     "data": {
      "text/plain": [
       "2.0    0.517857\n",
       "4.0    0.470238\n",
       "1.0    0.009921\n",
       "6.0    0.001984\n",
       "Name: COUPONFREQUENCY, dtype: float64"
      ]
     },
     "execution_count": 45,
     "metadata": {},
     "output_type": "execute_result"
    }
   ],
   "source": [
    "cluster_1['COUPONFREQUENCY'].value_counts(normalize = True)"
   ]
  },
  {
   "cell_type": "code",
   "execution_count": 46,
   "id": "df66b66a",
   "metadata": {},
   "outputs": [
    {
     "data": {
      "text/plain": [
       "2    0.515873\n",
       "3    0.484127\n",
       "Name: DURATION_LVL, dtype: float64"
      ]
     },
     "execution_count": 46,
     "metadata": {},
     "output_type": "execute_result"
    }
   ],
   "source": [
    "cluster_1['DURATION_LVL'].value_counts(normalize = True)"
   ]
  },
  {
   "cell_type": "code",
   "execution_count": 77,
   "id": "b0d01725",
   "metadata": {
    "scrolled": true
   },
   "outputs": [
    {
     "data": {
      "text/plain": [
       "8.017799603174598"
      ]
     },
     "execution_count": 77,
     "metadata": {},
     "output_type": "execute_result"
    }
   ],
   "source": [
    "cluster_1['COUPONPERCENT'].mean()"
   ]
  },
  {
   "cell_type": "markdown",
   "id": "9312bc5e",
   "metadata": {},
   "source": [
    "*  `Оранжевый кластер` - включил в себя облигации с частотой выплаты купона 2 - 4 раза в год со средним значением купона 8%. Однако следует заметить, что уровень дюрации по данным облигациям лишь умеренный или высокий."
   ]
  },
  {
   "cell_type": "code",
   "execution_count": 48,
   "id": "1df83a9e",
   "metadata": {
    "scrolled": true
   },
   "outputs": [
    {
     "data": {
      "text/plain": [
       "2.0    0.567925\n",
       "4.0    0.418868\n",
       "1.0    0.011321\n",
       "6.0    0.001887\n",
       "Name: COUPONFREQUENCY, dtype: float64"
      ]
     },
     "execution_count": 48,
     "metadata": {},
     "output_type": "execute_result"
    }
   ],
   "source": [
    "cluster_2['COUPONFREQUENCY'].value_counts(normalize = True)"
   ]
  },
  {
   "cell_type": "code",
   "execution_count": 49,
   "id": "d5f7eb72",
   "metadata": {},
   "outputs": [
    {
     "data": {
      "text/plain": [
       "0    0.515094\n",
       "1    0.484906\n",
       "Name: DURATION_LVL, dtype: float64"
      ]
     },
     "execution_count": 49,
     "metadata": {},
     "output_type": "execute_result"
    }
   ],
   "source": [
    "cluster_2['DURATION_LVL'].value_counts(normalize = True)"
   ]
  },
  {
   "cell_type": "code",
   "execution_count": 50,
   "id": "67f991a2",
   "metadata": {},
   "outputs": [
    {
     "data": {
      "text/plain": [
       "8.507466037735847"
      ]
     },
     "execution_count": 50,
     "metadata": {},
     "output_type": "execute_result"
    }
   ],
   "source": [
    "cluster_2['COUPONPERCENT'].mean()"
   ]
  },
  {
   "cell_type": "markdown",
   "id": "d2c8388c",
   "metadata": {},
   "source": [
    "*  `Синий кластер` - включил в себя облигации с частотой выплаты купона 2 - 4 раза в год со средним значением купона 8,5%. Уровень дюрации по данным облигациям низкий или средний."
   ]
  },
  {
   "cell_type": "code",
   "execution_count": 51,
   "id": "a00e7da1",
   "metadata": {},
   "outputs": [
    {
     "data": {
      "text/plain": [
       "2.0    0.746544\n",
       "1.0    0.225806\n",
       "4.0    0.027650\n",
       "Name: COUPONFREQUENCY, dtype: float64"
      ]
     },
     "execution_count": 51,
     "metadata": {},
     "output_type": "execute_result"
    }
   ],
   "source": [
    "cluster_3['COUPONFREQUENCY'].value_counts(normalize = True)"
   ]
  },
  {
   "cell_type": "code",
   "execution_count": 52,
   "id": "b6c4ac38",
   "metadata": {},
   "outputs": [
    {
     "data": {
      "text/plain": [
       "3    0.354839\n",
       "1    0.258065\n",
       "2    0.202765\n",
       "0    0.184332\n",
       "Name: DURATION_LVL, dtype: float64"
      ]
     },
     "execution_count": 52,
     "metadata": {},
     "output_type": "execute_result"
    }
   ],
   "source": [
    "cluster_3['DURATION_LVL'].value_counts(normalize = True)"
   ]
  },
  {
   "cell_type": "code",
   "execution_count": 76,
   "id": "d849560d",
   "metadata": {},
   "outputs": [
    {
     "data": {
      "text/plain": [
       "0.01"
      ]
     },
     "execution_count": 76,
     "metadata": {},
     "output_type": "execute_result"
    }
   ],
   "source": [
    "cluster_3['COUPONPERCENT'].median()"
   ]
  },
  {
   "cell_type": "markdown",
   "id": "9d1914e6",
   "metadata": {},
   "source": [
    "*  `Зеленый кластер` - сложноструктурированные облигации, выплаты по которым зависят от того, наступило или не наступило одно либо сразу несколько событий. Высокорисковый инструмент. Уровни дюрации распределились более менее равномерно."
   ]
  },
  {
   "cell_type": "markdown",
   "id": "b463e02c",
   "metadata": {},
   "source": [
    "#### Резюмируя\n",
    "Было выделено 4 кластера\n",
    "\n",
    "*  `Красный кластер (0)` - включил в себя облигации с ежемесячной выплатой купона со средним значением около 12% годовых. Уровни дюрации распределились более менее равномерно, есть небольшой перекос в сторону умеренной дюрации\n",
    "\n",
    "*  `Зеленый кластер (3)` - сложноструктурированные облигации, выплаты по которым зависят от того, наступило или не наступило одно либо сразу несколько событий. Высокорисковый инструмент. Уровни дюрации распределились более менее равномерно.\n",
    "\n",
    "*  `Оранжевый кластер (1)` - включил в себя облигации с частотой выплаты купона 2 - 4 раза в год со средним значением купона 8%. Однако следует заметить, что уровень дюрации по данным облигациям умеренный или высокий.\n",
    "\n",
    "*  `Синий кластер (2)` - включил в себя облигации с частотой выплаты купона 2 - 4 раза в год со средним значением купона 8,5%. Уровень дюрации по данным облигациям низкий или средний.\n"
   ]
  },
  {
   "cell_type": "markdown",
   "id": "4cc921f6",
   "metadata": {},
   "source": [
    "<a id = 'section3'></a>\n",
    "### Расчет дохода последующих купонов по низкорисковым облигациям"
   ]
  },
  {
   "cell_type": "code",
   "execution_count": 54,
   "id": "b9de853c",
   "metadata": {},
   "outputs": [],
   "source": [
    "df_calculate = df.copy().query('COUPONDAYSPASSED/COUPONLENGTH <= 0.2')"
   ]
  },
  {
   "cell_type": "code",
   "execution_count": 55,
   "id": "2f583e0f",
   "metadata": {},
   "outputs": [],
   "source": [
    "df_calculate = df_calculate.query('HIGH_RISK == 0')"
   ]
  },
  {
   "cell_type": "code",
   "execution_count": 56,
   "id": "14d5575b",
   "metadata": {},
   "outputs": [],
   "source": [
    "df_calculate = df_calculate.query('DAYSTOREDEMPTION > 365')"
   ]
  },
  {
   "cell_type": "code",
   "execution_count": 57,
   "id": "f26506c1",
   "metadata": {},
   "outputs": [
    {
     "data": {
      "text/plain": [
       "Index(['SECID', 'SHORTNAME', 'NAME', 'TYPENAME', 'LISTLEVEL', 'FACEVALUE',\n",
       "       'FACEUNIT', 'ISSUESIZE', 'DURATION', 'IS_QUALIFIED_INVESTORS',\n",
       "       'HIGH_RISK', 'COUPONFREQUENCY', 'COUPONDATE', 'COUPONPERCENT',\n",
       "       'COUPONVALUE', 'COUPONDAYSPASSED', 'COUPONDAYSREMAIN', 'COUPONLENGTH',\n",
       "       'DAYSTOREDEMPTION', 'EMITENTNAME', 'INN', 'PRICE', 'PRICE_RUB', 'OFFER',\n",
       "       'DURATION_LVL', 'Cluster_id'],\n",
       "      dtype='object')"
      ]
     },
     "execution_count": 57,
     "metadata": {},
     "output_type": "execute_result"
    }
   ],
   "source": [
    "df_calculate.columns"
   ]
  },
  {
   "cell_type": "code",
   "execution_count": 58,
   "id": "12759ad5",
   "metadata": {},
   "outputs": [],
   "source": [
    "df_calculate['NKD'] = df_calculate[\n",
    "    'PRICE_RUB'] / 100 * df_calculate['COUPONPERCENT'] / 365 * df_calculate['COUPONDAYSPASSED']"
   ]
  },
  {
   "cell_type": "code",
   "execution_count": 59,
   "id": "47a3354f",
   "metadata": {},
   "outputs": [],
   "source": [
    "df_calculate['EXPECTED_PROFIT'] = (\n",
    "    df_calculate['FACEVALUE'] - df_calculate['PRICE_RUB'] - df_calculate['NKD'] + df_calculate[\n",
    "        'FACEVALUE'] * df_calculate['COUPONPERCENT']/100)*100 / (df_calculate['PRICE_RUB'] + df_calculate['NKD'])"
   ]
  },
  {
   "cell_type": "code",
   "execution_count": 60,
   "id": "0b593e9b",
   "metadata": {},
   "outputs": [],
   "source": [
    "df_calculate['PROFIT'] = (\n",
    "    df_calculate['FACEVALUE'] - df_calculate['PRICE_RUB'] - df_calculate['NKD'] + 0.87 * df_calculate[\n",
    "        'FACEVALUE'] * df_calculate['COUPONPERCENT']/100)*100 / (df_calculate['PRICE_RUB'] + df_calculate['NKD'])"
   ]
  },
  {
   "cell_type": "code",
   "execution_count": 61,
   "id": "9c4ef04f",
   "metadata": {},
   "outputs": [],
   "source": [
    "df_profit = df_calculate[['SECID', 'FACEVALUE',\n",
    "              'COUPONPERCENT', 'PRICE_RUB',\n",
    "              'NKD', 'PROFIT', 'EXPECTED_PROFIT', 'EMITENTNAME', 'COUPONFREQUENCY', 'DURATION_LVL', 'Cluster_id']]"
   ]
  },
  {
   "cell_type": "code",
   "execution_count": 62,
   "id": "d4ca8707",
   "metadata": {},
   "outputs": [
    {
     "data": {
      "text/plain": [
       "Cluster_id\n",
       "0    8.840739\n",
       "1    7.919551\n",
       "2    7.042188\n",
       "3    8.011297\n",
       "Name: PROFIT, dtype: float64"
      ]
     },
     "execution_count": 62,
     "metadata": {},
     "output_type": "execute_result"
    }
   ],
   "source": [
    "df_profit.groupby('Cluster_id')['PROFIT'].mean()"
   ]
  },
  {
   "cell_type": "code",
   "execution_count": 63,
   "id": "c69e65b7",
   "metadata": {},
   "outputs": [
    {
     "data": {
      "text/html": [
       "<div>\n",
       "<style scoped>\n",
       "    .dataframe tbody tr th:only-of-type {\n",
       "        vertical-align: middle;\n",
       "    }\n",
       "\n",
       "    .dataframe tbody tr th {\n",
       "        vertical-align: top;\n",
       "    }\n",
       "\n",
       "    .dataframe thead th {\n",
       "        text-align: right;\n",
       "    }\n",
       "</style>\n",
       "<table border=\"1\" class=\"dataframe\">\n",
       "  <thead>\n",
       "    <tr style=\"text-align: right;\">\n",
       "      <th></th>\n",
       "      <th>SECID</th>\n",
       "      <th>FACEVALUE</th>\n",
       "      <th>COUPONPERCENT</th>\n",
       "      <th>PRICE_RUB</th>\n",
       "      <th>NKD</th>\n",
       "      <th>PROFIT</th>\n",
       "      <th>EXPECTED_PROFIT</th>\n",
       "      <th>EMITENTNAME</th>\n",
       "      <th>COUPONFREQUENCY</th>\n",
       "      <th>DURATION_LVL</th>\n",
       "      <th>Cluster_id</th>\n",
       "    </tr>\n",
       "  </thead>\n",
       "  <tbody>\n",
       "    <tr>\n",
       "      <th>21</th>\n",
       "      <td>RU000A0JRDY3</td>\n",
       "      <td>500.0</td>\n",
       "      <td>7.71</td>\n",
       "      <td>501.27</td>\n",
       "      <td>1.270616</td>\n",
       "      <td>6.168234</td>\n",
       "      <td>7.165467</td>\n",
       "      <td>Акционерное общество \"ДОМ.РФ\"</td>\n",
       "      <td>4.0</td>\n",
       "      <td>1</td>\n",
       "      <td>2</td>\n",
       "    </tr>\n",
       "    <tr>\n",
       "      <th>26</th>\n",
       "      <td>RU000A0JRU20</td>\n",
       "      <td>851.0</td>\n",
       "      <td>9.68</td>\n",
       "      <td>851.08</td>\n",
       "      <td>4.288511</td>\n",
       "      <td>7.867873</td>\n",
       "      <td>9.119846</td>\n",
       "      <td>Общество с ограниченной ответственностью \"Севе...</td>\n",
       "      <td>2.0</td>\n",
       "      <td>3</td>\n",
       "      <td>1</td>\n",
       "    </tr>\n",
       "    <tr>\n",
       "      <th>27</th>\n",
       "      <td>RU000A0JRU46</td>\n",
       "      <td>851.0</td>\n",
       "      <td>9.68</td>\n",
       "      <td>851.26</td>\n",
       "      <td>4.289418</td>\n",
       "      <td>7.845064</td>\n",
       "      <td>9.096772</td>\n",
       "      <td>Общество с ограниченной ответственностью \"Севе...</td>\n",
       "      <td>2.0</td>\n",
       "      <td>3</td>\n",
       "      <td>1</td>\n",
       "    </tr>\n",
       "    <tr>\n",
       "      <th>49</th>\n",
       "      <td>RU000A0JS6M0</td>\n",
       "      <td>1000.0</td>\n",
       "      <td>6.75</td>\n",
       "      <td>968.09</td>\n",
       "      <td>1.074182</td>\n",
       "      <td>9.241037</td>\n",
       "      <td>10.146456</td>\n",
       "      <td>Публичное акционерное общество РОСБАНК</td>\n",
       "      <td>2.0</td>\n",
       "      <td>2</td>\n",
       "      <td>1</td>\n",
       "    </tr>\n",
       "    <tr>\n",
       "      <th>59</th>\n",
       "      <td>RU000A0JT403</td>\n",
       "      <td>1000.0</td>\n",
       "      <td>7.67</td>\n",
       "      <td>983.27</td>\n",
       "      <td>5.372156</td>\n",
       "      <td>7.898393</td>\n",
       "      <td>8.906948</td>\n",
       "      <td>государственная корпорация развития \"ВЭБ.РФ\"</td>\n",
       "      <td>2.0</td>\n",
       "      <td>3</td>\n",
       "      <td>1</td>\n",
       "    </tr>\n",
       "  </tbody>\n",
       "</table>\n",
       "</div>"
      ],
      "text/plain": [
       "           SECID  FACEVALUE  COUPONPERCENT  PRICE_RUB       NKD    PROFIT  \\\n",
       "21  RU000A0JRDY3      500.0           7.71     501.27  1.270616  6.168234   \n",
       "26  RU000A0JRU20      851.0           9.68     851.08  4.288511  7.867873   \n",
       "27  RU000A0JRU46      851.0           9.68     851.26  4.289418  7.845064   \n",
       "49  RU000A0JS6M0     1000.0           6.75     968.09  1.074182  9.241037   \n",
       "59  RU000A0JT403     1000.0           7.67     983.27  5.372156  7.898393   \n",
       "\n",
       "    EXPECTED_PROFIT                                        EMITENTNAME  \\\n",
       "21         7.165467                      Акционерное общество \"ДОМ.РФ\"   \n",
       "26         9.119846  Общество с ограниченной ответственностью \"Севе...   \n",
       "27         9.096772  Общество с ограниченной ответственностью \"Севе...   \n",
       "49        10.146456             Публичное акционерное общество РОСБАНК   \n",
       "59         8.906948       государственная корпорация развития \"ВЭБ.РФ\"   \n",
       "\n",
       "    COUPONFREQUENCY  DURATION_LVL  Cluster_id  \n",
       "21              4.0             1           2  \n",
       "26              2.0             3           1  \n",
       "27              2.0             3           1  \n",
       "49              2.0             2           1  \n",
       "59              2.0             3           1  "
      ]
     },
     "execution_count": 63,
     "metadata": {},
     "output_type": "execute_result"
    }
   ],
   "source": [
    "df_profit.head()"
   ]
  },
  {
   "cell_type": "markdown",
   "id": "3abf7985",
   "metadata": {},
   "source": [
    "<a id = 'section4'></a>\n",
    "### Стратегия инвестирования.  Отбор и рейтингование облигаций.\n",
    "\n",
    "В работе использована консервативная стратегия для выбора облигаций. К выбору предлагаются лишь низкорисковые облигации. Прогноз строился с горизонтом событий 365 дней. Решение о продаже бумаг будет приниматься в конце года.\n",
    "\n",
    "Задача заключается в том, чтобы выбрать бумаги с наиболее привлекательным доходом. За привлекательных доход будем брать купонную ставку, которая выше ключевой на текущий момент. Так же для консервативной стратегии выберем лишь облигации с низкой и средней Дюрацией.\n",
    "\n",
    "Ранее мною были предложены 4 кластера для разделения облигаций по распределению купонного дохода.\n",
    "\n",
    "*  `Красный кластер (0)` - включил в себя облигации с ежемесячной выплатой купона со средним значением около 12% годовых. Уровни дюрации распределились более менее равномерно, есть небольшой перекос в сторону умеренной дюрации\n",
    "\n",
    "\n",
    "*  `Зеленый кластер (3)` - сложноструктурированные облигации, выплаты по которым зависят от того, наступило или не наступило одно либо сразу несколько событий. Высокорисковый инструмент. Уровни дюрации распределились более менее равномерно.\n",
    "\n",
    "\n",
    "*  `Оранжевый кластер (1)` - включил в себя облигации с частотой выплаты купона 2 - 4 раза в год со средним значением купона 8%. Однако следует заметить, что уровень дюрации по данным облигациям умеренный или высокий.\n",
    "\n",
    "\n",
    "*  `Синий кластер (0)` - включил в себя облигации с частотой выплаты купона 2 - 4 раза в год со средним значением купона 8,5%. Уровень дюрации по данным облигациям низкий или средний.\n",
    "\n",
    "22.10.2021 ключевая ставка была поднята на 0,75 пунктов стала составлять 7,5 %\n",
    "\n",
    "Призведем отбор облигаций по следющим критериям:\n",
    "\n",
    "- реальный доход должен быть выше ключевой ставки, выше 7,5 %\n",
    "- уровень дюрации должен быть не выше среднего\n",
    "- в формировании портфеля не будут участвовать сложноструктурированные облигации"
   ]
  },
  {
   "cell_type": "code",
   "execution_count": 64,
   "id": "6880d24c",
   "metadata": {},
   "outputs": [
    {
     "data": {
      "text/html": [
       "<div>\n",
       "<style scoped>\n",
       "    .dataframe tbody tr th:only-of-type {\n",
       "        vertical-align: middle;\n",
       "    }\n",
       "\n",
       "    .dataframe tbody tr th {\n",
       "        vertical-align: top;\n",
       "    }\n",
       "\n",
       "    .dataframe thead th {\n",
       "        text-align: right;\n",
       "    }\n",
       "</style>\n",
       "<table border=\"1\" class=\"dataframe\">\n",
       "  <thead>\n",
       "    <tr style=\"text-align: right;\">\n",
       "      <th></th>\n",
       "      <th>SECID</th>\n",
       "      <th>FACEVALUE</th>\n",
       "      <th>COUPONPERCENT</th>\n",
       "      <th>PRICE_RUB</th>\n",
       "      <th>NKD</th>\n",
       "      <th>PROFIT</th>\n",
       "      <th>EXPECTED_PROFIT</th>\n",
       "      <th>EMITENTNAME</th>\n",
       "      <th>COUPONFREQUENCY</th>\n",
       "      <th>DURATION_LVL</th>\n",
       "      <th>Cluster_id</th>\n",
       "    </tr>\n",
       "  </thead>\n",
       "  <tbody>\n",
       "    <tr>\n",
       "      <th>1739</th>\n",
       "      <td>RU000A102EY2</td>\n",
       "      <td>1000.0</td>\n",
       "      <td>0.01</td>\n",
       "      <td>922.30</td>\n",
       "      <td>0.007075</td>\n",
       "      <td>8.433192</td>\n",
       "      <td>8.434601</td>\n",
       "      <td>Банк ВТБ (публичное акционерное общество)</td>\n",
       "      <td>2.0</td>\n",
       "      <td>2</td>\n",
       "      <td>3</td>\n",
       "    </tr>\n",
       "    <tr>\n",
       "      <th>1154</th>\n",
       "      <td>RU000A1014V7</td>\n",
       "      <td>9000.0</td>\n",
       "      <td>13.25</td>\n",
       "      <td>9067.07</td>\n",
       "      <td>9.874412</td>\n",
       "      <td>10.582092</td>\n",
       "      <td>12.289990</td>\n",
       "      <td>Общество с ограниченной ответственностью \"Трей...</td>\n",
       "      <td>12.0</td>\n",
       "      <td>1</td>\n",
       "      <td>0</td>\n",
       "    </tr>\n",
       "    <tr>\n",
       "      <th>423</th>\n",
       "      <td>RU000A0JXP45</td>\n",
       "      <td>1000.0</td>\n",
       "      <td>6.10</td>\n",
       "      <td>956.97</td>\n",
       "      <td>1.439388</td>\n",
       "      <td>9.876845</td>\n",
       "      <td>10.704258</td>\n",
       "      <td>\"Газпромбанк\" (Акционерное общество)</td>\n",
       "      <td>2.0</td>\n",
       "      <td>2</td>\n",
       "      <td>1</td>\n",
       "    </tr>\n",
       "    <tr>\n",
       "      <th>64</th>\n",
       "      <td>RU000A0JT7T2</td>\n",
       "      <td>1000.0</td>\n",
       "      <td>7.40</td>\n",
       "      <td>970.54</td>\n",
       "      <td>2.754738</td>\n",
       "      <td>9.358446</td>\n",
       "      <td>10.346841</td>\n",
       "      <td>Публичное акционерное общество \"Федеральная се...</td>\n",
       "      <td>2.0</td>\n",
       "      <td>2</td>\n",
       "      <td>1</td>\n",
       "    </tr>\n",
       "    <tr>\n",
       "      <th>1099</th>\n",
       "      <td>RU000A100ZF0</td>\n",
       "      <td>1000.0</td>\n",
       "      <td>7.00</td>\n",
       "      <td>979.89</td>\n",
       "      <td>0.000000</td>\n",
       "      <td>8.267254</td>\n",
       "      <td>9.195930</td>\n",
       "      <td>Открытое акционерное общество \"Межрегиональная...</td>\n",
       "      <td>2.0</td>\n",
       "      <td>1</td>\n",
       "      <td>2</td>\n",
       "    </tr>\n",
       "  </tbody>\n",
       "</table>\n",
       "</div>"
      ],
      "text/plain": [
       "             SECID  FACEVALUE  COUPONPERCENT  PRICE_RUB       NKD     PROFIT  \\\n",
       "1739  RU000A102EY2     1000.0           0.01     922.30  0.007075   8.433192   \n",
       "1154  RU000A1014V7     9000.0          13.25    9067.07  9.874412  10.582092   \n",
       "423   RU000A0JXP45     1000.0           6.10     956.97  1.439388   9.876845   \n",
       "64    RU000A0JT7T2     1000.0           7.40     970.54  2.754738   9.358446   \n",
       "1099  RU000A100ZF0     1000.0           7.00     979.89  0.000000   8.267254   \n",
       "\n",
       "      EXPECTED_PROFIT                                        EMITENTNAME  \\\n",
       "1739         8.434601          Банк ВТБ (публичное акционерное общество)   \n",
       "1154        12.289990  Общество с ограниченной ответственностью \"Трей...   \n",
       "423         10.704258               \"Газпромбанк\" (Акционерное общество)   \n",
       "64          10.346841  Публичное акционерное общество \"Федеральная се...   \n",
       "1099         9.195930  Открытое акционерное общество \"Межрегиональная...   \n",
       "\n",
       "      COUPONFREQUENCY  DURATION_LVL  Cluster_id  \n",
       "1739              2.0             2           3  \n",
       "1154             12.0             1           0  \n",
       "423               2.0             2           1  \n",
       "64                2.0             2           1  \n",
       "1099              2.0             1           2  "
      ]
     },
     "execution_count": 64,
     "metadata": {},
     "output_type": "execute_result"
    }
   ],
   "source": [
    "df_profit = df_profit.query('PROFIT > 7.5')\n",
    "df_profit.sample(5)"
   ]
  },
  {
   "cell_type": "code",
   "execution_count": 65,
   "id": "263210f0",
   "metadata": {},
   "outputs": [],
   "source": [
    "hard_structured = df_profit[df_profit['COUPONPERCENT'] == 0.01]['Cluster_id'].values[0]"
   ]
  },
  {
   "cell_type": "markdown",
   "id": "6e8a874c",
   "metadata": {},
   "source": [
    "Убраны сложноструктурируемые облигации из выборки, по которой планируется отбор. Так как для того чтобы получить нормальный доход необходимо чтобы произошли событие которые мы вряд ли сможем спрогнозировать"
   ]
  },
  {
   "cell_type": "code",
   "execution_count": 66,
   "id": "d98c7279",
   "metadata": {},
   "outputs": [
    {
     "data": {
      "text/html": [
       "<div>\n",
       "<style scoped>\n",
       "    .dataframe tbody tr th:only-of-type {\n",
       "        vertical-align: middle;\n",
       "    }\n",
       "\n",
       "    .dataframe tbody tr th {\n",
       "        vertical-align: top;\n",
       "    }\n",
       "\n",
       "    .dataframe thead th {\n",
       "        text-align: right;\n",
       "    }\n",
       "</style>\n",
       "<table border=\"1\" class=\"dataframe\">\n",
       "  <thead>\n",
       "    <tr style=\"text-align: right;\">\n",
       "      <th></th>\n",
       "      <th>SECID</th>\n",
       "      <th>FACEVALUE</th>\n",
       "      <th>COUPONPERCENT</th>\n",
       "      <th>PRICE_RUB</th>\n",
       "      <th>NKD</th>\n",
       "      <th>PROFIT</th>\n",
       "      <th>EXPECTED_PROFIT</th>\n",
       "      <th>EMITENTNAME</th>\n",
       "      <th>COUPONFREQUENCY</th>\n",
       "      <th>DURATION_LVL</th>\n",
       "      <th>Cluster_id</th>\n",
       "    </tr>\n",
       "  </thead>\n",
       "  <tbody>\n",
       "    <tr>\n",
       "      <th>2038</th>\n",
       "      <td>RU000A1034X1</td>\n",
       "      <td>1000.0</td>\n",
       "      <td>11.00</td>\n",
       "      <td>961.91</td>\n",
       "      <td>1.159563</td>\n",
       "      <td>13.771636</td>\n",
       "      <td>15.256472</td>\n",
       "      <td>Общество с ограниченной ответственностью \"Лизи...</td>\n",
       "      <td>12.0</td>\n",
       "      <td>3</td>\n",
       "      <td>0</td>\n",
       "    </tr>\n",
       "    <tr>\n",
       "      <th>1653</th>\n",
       "      <td>RU000A1029A9</td>\n",
       "      <td>1000.0</td>\n",
       "      <td>5.90</td>\n",
       "      <td>958.09</td>\n",
       "      <td>1.084085</td>\n",
       "      <td>9.607840</td>\n",
       "      <td>10.407487</td>\n",
       "      <td>Федеральное государственное унитарное предприя...</td>\n",
       "      <td>2.0</td>\n",
       "      <td>2</td>\n",
       "      <td>1</td>\n",
       "    </tr>\n",
       "    <tr>\n",
       "      <th>1978</th>\n",
       "      <td>RU000A103117</td>\n",
       "      <td>1000.0</td>\n",
       "      <td>7.30</td>\n",
       "      <td>976.70</td>\n",
       "      <td>1.172040</td>\n",
       "      <td>8.757583</td>\n",
       "      <td>9.728058</td>\n",
       "      <td>Общество с ограниченной ответственностью \"МВ Ф...</td>\n",
       "      <td>2.0</td>\n",
       "      <td>1</td>\n",
       "      <td>2</td>\n",
       "    </tr>\n",
       "    <tr>\n",
       "      <th>1499</th>\n",
       "      <td>RU000A101XN7</td>\n",
       "      <td>1000.0</td>\n",
       "      <td>6.35</td>\n",
       "      <td>964.19</td>\n",
       "      <td>1.174199</td>\n",
       "      <td>9.310559</td>\n",
       "      <td>10.165677</td>\n",
       "      <td>Публичное акционерное общество \"Акционерная фи...</td>\n",
       "      <td>4.0</td>\n",
       "      <td>1</td>\n",
       "      <td>2</td>\n",
       "    </tr>\n",
       "    <tr>\n",
       "      <th>1052</th>\n",
       "      <td>RU000A100VQ6</td>\n",
       "      <td>1000.0</td>\n",
       "      <td>7.20</td>\n",
       "      <td>979.52</td>\n",
       "      <td>5.603391</td>\n",
       "      <td>7.868721</td>\n",
       "      <td>8.818856</td>\n",
       "      <td>Публичное акционерное общество \"Горно-металлур...</td>\n",
       "      <td>2.0</td>\n",
       "      <td>3</td>\n",
       "      <td>1</td>\n",
       "    </tr>\n",
       "  </tbody>\n",
       "</table>\n",
       "</div>"
      ],
      "text/plain": [
       "             SECID  FACEVALUE  COUPONPERCENT  PRICE_RUB       NKD     PROFIT  \\\n",
       "2038  RU000A1034X1     1000.0          11.00     961.91  1.159563  13.771636   \n",
       "1653  RU000A1029A9     1000.0           5.90     958.09  1.084085   9.607840   \n",
       "1978  RU000A103117     1000.0           7.30     976.70  1.172040   8.757583   \n",
       "1499  RU000A101XN7     1000.0           6.35     964.19  1.174199   9.310559   \n",
       "1052  RU000A100VQ6     1000.0           7.20     979.52  5.603391   7.868721   \n",
       "\n",
       "      EXPECTED_PROFIT                                        EMITENTNAME  \\\n",
       "2038        15.256472  Общество с ограниченной ответственностью \"Лизи...   \n",
       "1653        10.407487  Федеральное государственное унитарное предприя...   \n",
       "1978         9.728058  Общество с ограниченной ответственностью \"МВ Ф...   \n",
       "1499        10.165677  Публичное акционерное общество \"Акционерная фи...   \n",
       "1052         8.818856  Публичное акционерное общество \"Горно-металлур...   \n",
       "\n",
       "      COUPONFREQUENCY  DURATION_LVL  Cluster_id  \n",
       "2038             12.0             3           0  \n",
       "1653              2.0             2           1  \n",
       "1978              2.0             1           2  \n",
       "1499              4.0             1           2  \n",
       "1052              2.0             3           1  "
      ]
     },
     "execution_count": 66,
     "metadata": {},
     "output_type": "execute_result"
    }
   ],
   "source": [
    "df_profit = df_profit.query('Cluster_id != @hard_structured')\n",
    "df_profit.sample(5)"
   ]
  },
  {
   "cell_type": "code",
   "execution_count": 67,
   "id": "84f8a5e6",
   "metadata": {
    "scrolled": false
   },
   "outputs": [],
   "source": [
    "bond_portfolio = df_profit.query('DURATION_LVL == 0 or DURATION_LVL == 1').sort_values('PROFIT', ascending = False)"
   ]
  },
  {
   "cell_type": "code",
   "execution_count": 68,
   "id": "67790ffe",
   "metadata": {},
   "outputs": [],
   "source": [
    "bonds_number = bond_portfolio.shape[0]"
   ]
  },
  {
   "cell_type": "code",
   "execution_count": 69,
   "id": "175caf3a",
   "metadata": {
    "scrolled": true
   },
   "outputs": [
    {
     "data": {
      "text/plain": [
       "2    0.896552\n",
       "0    0.103448\n",
       "Name: Cluster_id, dtype: float64"
      ]
     },
     "execution_count": 69,
     "metadata": {},
     "output_type": "execute_result"
    }
   ],
   "source": [
    "bond_portfolio['Cluster_id'].value_counts(normalize=True)"
   ]
  },
  {
   "cell_type": "code",
   "execution_count": 70,
   "id": "315e4db6",
   "metadata": {},
   "outputs": [],
   "source": [
    "mean_profit = round(bond_portfolio['PROFIT'].mean(), 2)"
   ]
  },
  {
   "cell_type": "markdown",
   "id": "c4501bef",
   "metadata": {},
   "source": [
    "### Вывод\n",
    "\n",
    "В работе рассчитана доходность облигаций для клиента с консервативной инвестиционной стратегией.\n",
    "\n",
    "Под консервативной инвестиционной стратегией подразумевается:\n",
    "\n",
    "- К выбору предлагаются лишь низкорисковые рублевые облигации российских эмитентов\n",
    "- Горизонт расчета доходности облигаций 365 дней\n",
    "\n",
    "Произведено ранжирование имеющихся облигацией в соответсвии со следующими принципами:\n",
    "\n",
    "- реальный доход должен быть выше ключевой ставки, выше 7,5 %\n",
    "- уровень дюрации должен быть не выше среднего\n",
    "- в рейтинговании не будут участвовать сложноструктурированные облигации"
   ]
  },
  {
   "cell_type": "code",
   "execution_count": 78,
   "id": "788cb13b",
   "metadata": {
    "scrolled": false
   },
   "outputs": [
    {
     "name": "stdout",
     "output_type": "stream",
     "text": [
      "В финальный рейтинг на текущую дату в соответствии с условиями, описанными выше, вошло 29 бумаг(и),принадлежащих(ие) красному и синему кластеру. Средняя доходность бумаг предложенного рейтингования составила 8.43 %.\n"
     ]
    }
   ],
   "source": [
    "print(f'В финальный рейтинг на текущую дату в соответствии с условиями, описанными выше, вошло {bonds_number} бумаг(и),\\\n",
    "принадлежащих(ие) красному и синему кластеру. Средняя доходность бумаг предложенного рейтингования \\\n",
    "составила {mean_profit} %.')"
   ]
  },
  {
   "cell_type": "markdown",
   "id": "3e207c12",
   "metadata": {},
   "source": [
    "Для выбранной инвестиционной стратегии подходя следующие бумаги:"
   ]
  },
  {
   "cell_type": "code",
   "execution_count": 72,
   "id": "10f92ec1",
   "metadata": {
    "scrolled": true
   },
   "outputs": [
    {
     "data": {
      "text/html": [
       "<div>\n",
       "<style scoped>\n",
       "    .dataframe tbody tr th:only-of-type {\n",
       "        vertical-align: middle;\n",
       "    }\n",
       "\n",
       "    .dataframe tbody tr th {\n",
       "        vertical-align: top;\n",
       "    }\n",
       "\n",
       "    .dataframe thead th {\n",
       "        text-align: right;\n",
       "    }\n",
       "</style>\n",
       "<table border=\"1\" class=\"dataframe\">\n",
       "  <thead>\n",
       "    <tr style=\"text-align: right;\">\n",
       "      <th></th>\n",
       "      <th>SECID</th>\n",
       "      <th>FACEVALUE</th>\n",
       "      <th>COUPONPERCENT</th>\n",
       "      <th>PRICE_RUB</th>\n",
       "      <th>NKD</th>\n",
       "      <th>PROFIT</th>\n",
       "      <th>EXPECTED_PROFIT</th>\n",
       "      <th>EMITENTNAME</th>\n",
       "      <th>COUPONFREQUENCY</th>\n",
       "      <th>DURATION_LVL</th>\n",
       "      <th>Cluster_id</th>\n",
       "    </tr>\n",
       "  </thead>\n",
       "  <tbody>\n",
       "    <tr>\n",
       "      <th>1154</th>\n",
       "      <td>RU000A1014V7</td>\n",
       "      <td>9000.0</td>\n",
       "      <td>13.25</td>\n",
       "      <td>9067.07</td>\n",
       "      <td>9.874412</td>\n",
       "      <td>10.582092</td>\n",
       "      <td>12.289990</td>\n",
       "      <td>Общество с ограниченной ответственностью \"Трей...</td>\n",
       "      <td>12.0</td>\n",
       "      <td>1</td>\n",
       "      <td>0</td>\n",
       "    </tr>\n",
       "    <tr>\n",
       "      <th>1484</th>\n",
       "      <td>RU000A101WQ2</td>\n",
       "      <td>1000.0</td>\n",
       "      <td>5.25</td>\n",
       "      <td>947.72</td>\n",
       "      <td>0.545264</td>\n",
       "      <td>10.272414</td>\n",
       "      <td>10.992150</td>\n",
       "      <td>Акционерное общество \"Российский Сельскохозяйс...</td>\n",
       "      <td>12.0</td>\n",
       "      <td>1</td>\n",
       "      <td>0</td>\n",
       "    </tr>\n",
       "    <tr>\n",
       "      <th>1497</th>\n",
       "      <td>RU000A101XH9</td>\n",
       "      <td>1000.0</td>\n",
       "      <td>5.55</td>\n",
       "      <td>954.32</td>\n",
       "      <td>1.015763</td>\n",
       "      <td>9.729484</td>\n",
       "      <td>10.484716</td>\n",
       "      <td>Публичное акционерное общество \"Россети Москов...</td>\n",
       "      <td>4.0</td>\n",
       "      <td>1</td>\n",
       "      <td>2</td>\n",
       "    </tr>\n",
       "    <tr>\n",
       "      <th>2274</th>\n",
       "      <td>RU000A103WX4</td>\n",
       "      <td>1000.0</td>\n",
       "      <td>12.00</td>\n",
       "      <td>1007.79</td>\n",
       "      <td>0.662656</td>\n",
       "      <td>9.514313</td>\n",
       "      <td>11.061238</td>\n",
       "      <td>Акционерное общество \"Коммерческая недвижимост...</td>\n",
       "      <td>4.0</td>\n",
       "      <td>1</td>\n",
       "      <td>2</td>\n",
       "    </tr>\n",
       "    <tr>\n",
       "      <th>1499</th>\n",
       "      <td>RU000A101XN7</td>\n",
       "      <td>1000.0</td>\n",
       "      <td>6.35</td>\n",
       "      <td>964.19</td>\n",
       "      <td>1.174199</td>\n",
       "      <td>9.310559</td>\n",
       "      <td>10.165677</td>\n",
       "      <td>Публичное акционерное общество \"Акционерная фи...</td>\n",
       "      <td>4.0</td>\n",
       "      <td>1</td>\n",
       "      <td>2</td>\n",
       "    </tr>\n",
       "  </tbody>\n",
       "</table>\n",
       "</div>"
      ],
      "text/plain": [
       "             SECID  FACEVALUE  COUPONPERCENT  PRICE_RUB       NKD     PROFIT  \\\n",
       "1154  RU000A1014V7     9000.0          13.25    9067.07  9.874412  10.582092   \n",
       "1484  RU000A101WQ2     1000.0           5.25     947.72  0.545264  10.272414   \n",
       "1497  RU000A101XH9     1000.0           5.55     954.32  1.015763   9.729484   \n",
       "2274  RU000A103WX4     1000.0          12.00    1007.79  0.662656   9.514313   \n",
       "1499  RU000A101XN7     1000.0           6.35     964.19  1.174199   9.310559   \n",
       "\n",
       "      EXPECTED_PROFIT                                        EMITENTNAME  \\\n",
       "1154        12.289990  Общество с ограниченной ответственностью \"Трей...   \n",
       "1484        10.992150  Акционерное общество \"Российский Сельскохозяйс...   \n",
       "1497        10.484716  Публичное акционерное общество \"Россети Москов...   \n",
       "2274        11.061238  Акционерное общество \"Коммерческая недвижимост...   \n",
       "1499        10.165677  Публичное акционерное общество \"Акционерная фи...   \n",
       "\n",
       "      COUPONFREQUENCY  DURATION_LVL  Cluster_id  \n",
       "1154             12.0             1           0  \n",
       "1484             12.0             1           0  \n",
       "1497              4.0             1           2  \n",
       "2274              4.0             1           2  \n",
       "1499              4.0             1           2  "
      ]
     },
     "execution_count": 72,
     "metadata": {},
     "output_type": "execute_result"
    }
   ],
   "source": [
    "tabl_1 = bond_portfolio.sort_values(by = 'PROFIT', ascending= False)\n",
    "tabl_1.head(5)"
   ]
  },
  {
   "cell_type": "code",
   "execution_count": 73,
   "id": "8cf9c072",
   "metadata": {},
   "outputs": [
    {
     "data": {
      "text/html": [
       "<div>\n",
       "<style scoped>\n",
       "    .dataframe tbody tr th:only-of-type {\n",
       "        vertical-align: middle;\n",
       "    }\n",
       "\n",
       "    .dataframe tbody tr th {\n",
       "        vertical-align: top;\n",
       "    }\n",
       "\n",
       "    .dataframe thead th {\n",
       "        text-align: right;\n",
       "    }\n",
       "</style>\n",
       "<table border=\"1\" class=\"dataframe\">\n",
       "  <thead>\n",
       "    <tr style=\"text-align: right;\">\n",
       "      <th></th>\n",
       "      <th>SECID</th>\n",
       "      <th>FACEVALUE</th>\n",
       "      <th>COUPONPERCENT</th>\n",
       "      <th>PRICE_RUB</th>\n",
       "      <th>NKD</th>\n",
       "      <th>PROFIT</th>\n",
       "      <th>EXPECTED_PROFIT</th>\n",
       "      <th>EMITENTNAME</th>\n",
       "      <th>COUPONFREQUENCY</th>\n",
       "      <th>DURATION_LVL</th>\n",
       "      <th>Cluster_id</th>\n",
       "    </tr>\n",
       "  </thead>\n",
       "  <tbody>\n",
       "    <tr>\n",
       "      <th>1154</th>\n",
       "      <td>RU000A1014V7</td>\n",
       "      <td>9000.0</td>\n",
       "      <td>13.25</td>\n",
       "      <td>9067.07</td>\n",
       "      <td>9.874412</td>\n",
       "      <td>10.582092</td>\n",
       "      <td>12.289990</td>\n",
       "      <td>Общество с ограниченной ответственностью \"Трей...</td>\n",
       "      <td>12.0</td>\n",
       "      <td>1</td>\n",
       "      <td>0</td>\n",
       "    </tr>\n",
       "    <tr>\n",
       "      <th>1484</th>\n",
       "      <td>RU000A101WQ2</td>\n",
       "      <td>1000.0</td>\n",
       "      <td>5.25</td>\n",
       "      <td>947.72</td>\n",
       "      <td>0.545264</td>\n",
       "      <td>10.272414</td>\n",
       "      <td>10.992150</td>\n",
       "      <td>Акционерное общество \"Российский Сельскохозяйс...</td>\n",
       "      <td>12.0</td>\n",
       "      <td>1</td>\n",
       "      <td>0</td>\n",
       "    </tr>\n",
       "    <tr>\n",
       "      <th>1568</th>\n",
       "      <td>RU000A1022E6</td>\n",
       "      <td>1000.0</td>\n",
       "      <td>10.00</td>\n",
       "      <td>1002.02</td>\n",
       "      <td>1.647156</td>\n",
       "      <td>8.302837</td>\n",
       "      <td>9.598087</td>\n",
       "      <td>Общество с ограниченной ответственностью \"Лизи...</td>\n",
       "      <td>12.0</td>\n",
       "      <td>1</td>\n",
       "      <td>0</td>\n",
       "    </tr>\n",
       "    <tr>\n",
       "      <th>1497</th>\n",
       "      <td>RU000A101XH9</td>\n",
       "      <td>1000.0</td>\n",
       "      <td>5.55</td>\n",
       "      <td>954.32</td>\n",
       "      <td>1.015763</td>\n",
       "      <td>9.729484</td>\n",
       "      <td>10.484716</td>\n",
       "      <td>Публичное акционерное общество \"Россети Москов...</td>\n",
       "      <td>4.0</td>\n",
       "      <td>1</td>\n",
       "      <td>2</td>\n",
       "    </tr>\n",
       "    <tr>\n",
       "      <th>2274</th>\n",
       "      <td>RU000A103WX4</td>\n",
       "      <td>1000.0</td>\n",
       "      <td>12.00</td>\n",
       "      <td>1007.79</td>\n",
       "      <td>0.662656</td>\n",
       "      <td>9.514313</td>\n",
       "      <td>11.061238</td>\n",
       "      <td>Акционерное общество \"Коммерческая недвижимост...</td>\n",
       "      <td>4.0</td>\n",
       "      <td>1</td>\n",
       "      <td>2</td>\n",
       "    </tr>\n",
       "    <tr>\n",
       "      <th>1499</th>\n",
       "      <td>RU000A101XN7</td>\n",
       "      <td>1000.0</td>\n",
       "      <td>6.35</td>\n",
       "      <td>964.19</td>\n",
       "      <td>1.174199</td>\n",
       "      <td>9.310559</td>\n",
       "      <td>10.165677</td>\n",
       "      <td>Публичное акционерное общество \"Акционерная фи...</td>\n",
       "      <td>4.0</td>\n",
       "      <td>1</td>\n",
       "      <td>2</td>\n",
       "    </tr>\n",
       "    <tr>\n",
       "      <th>806</th>\n",
       "      <td>RU000A1001L5</td>\n",
       "      <td>1000.0</td>\n",
       "      <td>10.25</td>\n",
       "      <td>998.55</td>\n",
       "      <td>1.962903</td>\n",
       "      <td>8.861665</td>\n",
       "      <td>10.193481</td>\n",
       "      <td>Акционерное общество \"Южноуральский арматурно-...</td>\n",
       "      <td>4.0</td>\n",
       "      <td>0</td>\n",
       "      <td>2</td>\n",
       "    </tr>\n",
       "    <tr>\n",
       "      <th>263</th>\n",
       "      <td>RU000A0JVWB3</td>\n",
       "      <td>1000.0</td>\n",
       "      <td>7.00</td>\n",
       "      <td>977.55</td>\n",
       "      <td>0.937377</td>\n",
       "      <td>8.422451</td>\n",
       "      <td>9.352458</td>\n",
       "      <td>Акционерное общество \"Российский Сельскохозяйс...</td>\n",
       "      <td>4.0</td>\n",
       "      <td>1</td>\n",
       "      <td>2</td>\n",
       "    </tr>\n",
       "    <tr>\n",
       "      <th>1329</th>\n",
       "      <td>RU000A101MB5</td>\n",
       "      <td>1000.0</td>\n",
       "      <td>6.20</td>\n",
       "      <td>974.37</td>\n",
       "      <td>0.000000</td>\n",
       "      <td>8.166302</td>\n",
       "      <td>8.993503</td>\n",
       "      <td>Публичное акционерное общество \"Совкомбанк\"</td>\n",
       "      <td>4.0</td>\n",
       "      <td>1</td>\n",
       "      <td>2</td>\n",
       "    </tr>\n",
       "    <tr>\n",
       "      <th>1496</th>\n",
       "      <td>RU000A101XE6</td>\n",
       "      <td>1000.0</td>\n",
       "      <td>6.60</td>\n",
       "      <td>977.23</td>\n",
       "      <td>1.413637</td>\n",
       "      <td>8.049545</td>\n",
       "      <td>8.926269</td>\n",
       "      <td>Общество с ограниченной ответственностью \"Совк...</td>\n",
       "      <td>4.0</td>\n",
       "      <td>1</td>\n",
       "      <td>2</td>\n",
       "    </tr>\n",
       "    <tr>\n",
       "      <th>1078</th>\n",
       "      <td>RU000A100Y84</td>\n",
       "      <td>1000.0</td>\n",
       "      <td>7.00</td>\n",
       "      <td>982.53</td>\n",
       "      <td>1.507443</td>\n",
       "      <td>7.810938</td>\n",
       "      <td>8.735700</td>\n",
       "      <td>Правительство Белгородской области</td>\n",
       "      <td>4.0</td>\n",
       "      <td>1</td>\n",
       "      <td>2</td>\n",
       "    </tr>\n",
       "    <tr>\n",
       "      <th>265</th>\n",
       "      <td>RU000A0JVWJ6</td>\n",
       "      <td>1000.0</td>\n",
       "      <td>6.88</td>\n",
       "      <td>983.47</td>\n",
       "      <td>0.370755</td>\n",
       "      <td>7.726377</td>\n",
       "      <td>8.635467</td>\n",
       "      <td>акционерное общество \"Государственная транспор...</td>\n",
       "      <td>4.0</td>\n",
       "      <td>1</td>\n",
       "      <td>2</td>\n",
       "    </tr>\n",
       "    <tr>\n",
       "      <th>1518</th>\n",
       "      <td>RU000A101YV8</td>\n",
       "      <td>1000.0</td>\n",
       "      <td>11.50</td>\n",
       "      <td>1023.12</td>\n",
       "      <td>0.000000</td>\n",
       "      <td>7.519157</td>\n",
       "      <td>8.980374</td>\n",
       "      <td>Акционерное общество \"Позитив Текнолоджиз\"</td>\n",
       "      <td>4.0</td>\n",
       "      <td>1</td>\n",
       "      <td>2</td>\n",
       "    </tr>\n",
       "    <tr>\n",
       "      <th>1978</th>\n",
       "      <td>RU000A103117</td>\n",
       "      <td>1000.0</td>\n",
       "      <td>7.30</td>\n",
       "      <td>976.70</td>\n",
       "      <td>1.172040</td>\n",
       "      <td>8.757583</td>\n",
       "      <td>9.728058</td>\n",
       "      <td>Общество с ограниченной ответственностью \"МВ Ф...</td>\n",
       "      <td>2.0</td>\n",
       "      <td>1</td>\n",
       "      <td>2</td>\n",
       "    </tr>\n",
       "    <tr>\n",
       "      <th>1330</th>\n",
       "      <td>RU000A101MC3</td>\n",
       "      <td>1000.0</td>\n",
       "      <td>6.70</td>\n",
       "      <td>974.98</td>\n",
       "      <td>0.000000</td>\n",
       "      <td>8.544791</td>\n",
       "      <td>9.438142</td>\n",
       "      <td>Публичное акционерное общество \"Магнит\"</td>\n",
       "      <td>2.0</td>\n",
       "      <td>1</td>\n",
       "      <td>2</td>\n",
       "    </tr>\n",
       "    <tr>\n",
       "      <th>903</th>\n",
       "      <td>RU000A100AN7</td>\n",
       "      <td>1000.0</td>\n",
       "      <td>7.10</td>\n",
       "      <td>976.86</td>\n",
       "      <td>1.330135</td>\n",
       "      <td>8.544337</td>\n",
       "      <td>9.487917</td>\n",
       "      <td>Публичное акционерное общество \"Московская объ...</td>\n",
       "      <td>2.0</td>\n",
       "      <td>1</td>\n",
       "      <td>2</td>\n",
       "    </tr>\n",
       "    <tr>\n",
       "      <th>434</th>\n",
       "      <td>RU000A0JXQ51</td>\n",
       "      <td>1000.0</td>\n",
       "      <td>10.00</td>\n",
       "      <td>1000.14</td>\n",
       "      <td>1.370055</td>\n",
       "      <td>8.536105</td>\n",
       "      <td>9.834144</td>\n",
       "      <td>Акционерное общество \"АВТОБАН-Финанс\"</td>\n",
       "      <td>2.0</td>\n",
       "      <td>0</td>\n",
       "      <td>2</td>\n",
       "    </tr>\n",
       "    <tr>\n",
       "      <th>1099</th>\n",
       "      <td>RU000A100ZF0</td>\n",
       "      <td>1000.0</td>\n",
       "      <td>7.00</td>\n",
       "      <td>979.89</td>\n",
       "      <td>0.000000</td>\n",
       "      <td>8.267254</td>\n",
       "      <td>9.195930</td>\n",
       "      <td>Открытое акционерное общество \"Межрегиональная...</td>\n",
       "      <td>2.0</td>\n",
       "      <td>1</td>\n",
       "      <td>2</td>\n",
       "    </tr>\n",
       "    <tr>\n",
       "      <th>424</th>\n",
       "      <td>RU000A0JXPD9</td>\n",
       "      <td>1000.0</td>\n",
       "      <td>8.25</td>\n",
       "      <td>989.13</td>\n",
       "      <td>1.788564</td>\n",
       "      <td>8.159746</td>\n",
       "      <td>9.242075</td>\n",
       "      <td>Публичное акционерное общество \"Трубная Металл...</td>\n",
       "      <td>2.0</td>\n",
       "      <td>1</td>\n",
       "      <td>2</td>\n",
       "    </tr>\n",
       "    <tr>\n",
       "      <th>546</th>\n",
       "      <td>RU000A0ZYEB1</td>\n",
       "      <td>1000.0</td>\n",
       "      <td>8.95</td>\n",
       "      <td>995.22</td>\n",
       "      <td>1.464200</td>\n",
       "      <td>8.145087</td>\n",
       "      <td>9.312458</td>\n",
       "      <td>Публичное акционерное общество \"ТрансФин-М\"</td>\n",
       "      <td>2.0</td>\n",
       "      <td>0</td>\n",
       "      <td>2</td>\n",
       "    </tr>\n",
       "    <tr>\n",
       "      <th>905</th>\n",
       "      <td>RU000A100AZ1</td>\n",
       "      <td>1000.0</td>\n",
       "      <td>9.75</td>\n",
       "      <td>1002.30</td>\n",
       "      <td>1.338688</td>\n",
       "      <td>8.089197</td>\n",
       "      <td>9.352102</td>\n",
       "      <td>акционерное общество \"ТрансКомплектХолдинг\"</td>\n",
       "      <td>2.0</td>\n",
       "      <td>0</td>\n",
       "      <td>2</td>\n",
       "    </tr>\n",
       "    <tr>\n",
       "      <th>655</th>\n",
       "      <td>RU000A0ZZ4P9</td>\n",
       "      <td>1000.0</td>\n",
       "      <td>7.25</td>\n",
       "      <td>981.99</td>\n",
       "      <td>1.755475</td>\n",
       "      <td>8.064029</td>\n",
       "      <td>9.022102</td>\n",
       "      <td>открытое акционерное общество \"Российские желе...</td>\n",
       "      <td>2.0</td>\n",
       "      <td>1</td>\n",
       "      <td>2</td>\n",
       "    </tr>\n",
       "    <tr>\n",
       "      <th>411</th>\n",
       "      <td>RU000A0JXLR8</td>\n",
       "      <td>1000.0</td>\n",
       "      <td>6.40</td>\n",
       "      <td>973.23</td>\n",
       "      <td>3.754268</td>\n",
       "      <td>8.054964</td>\n",
       "      <td>8.906564</td>\n",
       "      <td>Публичное акционерное общество Банк \"Финансова...</td>\n",
       "      <td>2.0</td>\n",
       "      <td>1</td>\n",
       "      <td>2</td>\n",
       "    </tr>\n",
       "    <tr>\n",
       "      <th>215</th>\n",
       "      <td>RU000A0JVC59</td>\n",
       "      <td>1000.0</td>\n",
       "      <td>6.40</td>\n",
       "      <td>974.28</td>\n",
       "      <td>2.733323</td>\n",
       "      <td>8.051751</td>\n",
       "      <td>8.903326</td>\n",
       "      <td>Публичное акционерное общество Банк \"Финансова...</td>\n",
       "      <td>2.0</td>\n",
       "      <td>1</td>\n",
       "      <td>2</td>\n",
       "    </tr>\n",
       "    <tr>\n",
       "      <th>1327</th>\n",
       "      <td>RU000A101LY9</td>\n",
       "      <td>1000.0</td>\n",
       "      <td>6.75</td>\n",
       "      <td>980.01</td>\n",
       "      <td>0.906174</td>\n",
       "      <td>7.932261</td>\n",
       "      <td>8.826832</td>\n",
       "      <td>Публичное акционерное общество \"Ростелеком\"</td>\n",
       "      <td>2.0</td>\n",
       "      <td>1</td>\n",
       "      <td>2</td>\n",
       "    </tr>\n",
       "    <tr>\n",
       "      <th>908</th>\n",
       "      <td>RU000A100BB0</td>\n",
       "      <td>1000.0</td>\n",
       "      <td>9.00</td>\n",
       "      <td>999.24</td>\n",
       "      <td>0.492776</td>\n",
       "      <td>7.858822</td>\n",
       "      <td>9.029135</td>\n",
       "      <td>Публичное акционерное общество \"РУСАЛ Братский...</td>\n",
       "      <td>2.0</td>\n",
       "      <td>0</td>\n",
       "      <td>2</td>\n",
       "    </tr>\n",
       "    <tr>\n",
       "      <th>1089</th>\n",
       "      <td>RU000A100YU2</td>\n",
       "      <td>1000.0</td>\n",
       "      <td>7.25</td>\n",
       "      <td>984.69</td>\n",
       "      <td>0.977946</td>\n",
       "      <td>7.853259</td>\n",
       "      <td>8.809463</td>\n",
       "      <td>Публичное акционерное общество \"Акрон\"</td>\n",
       "      <td>2.0</td>\n",
       "      <td>1</td>\n",
       "      <td>2</td>\n",
       "    </tr>\n",
       "    <tr>\n",
       "      <th>1943</th>\n",
       "      <td>RU000A102VY6</td>\n",
       "      <td>1000.0</td>\n",
       "      <td>8.50</td>\n",
       "      <td>989.48</td>\n",
       "      <td>8.064940</td>\n",
       "      <td>7.659310</td>\n",
       "      <td>8.767030</td>\n",
       "      <td>Общество с ограниченной ответственностью  \"Ато...</td>\n",
       "      <td>2.0</td>\n",
       "      <td>0</td>\n",
       "      <td>2</td>\n",
       "    </tr>\n",
       "    <tr>\n",
       "      <th>1098</th>\n",
       "      <td>RU000A100ZD5</td>\n",
       "      <td>1000.0</td>\n",
       "      <td>7.00</td>\n",
       "      <td>985.89</td>\n",
       "      <td>0.000000</td>\n",
       "      <td>7.608354</td>\n",
       "      <td>8.531378</td>\n",
       "      <td>Открытое акционерное общество \"Межрегиональная...</td>\n",
       "      <td>2.0</td>\n",
       "      <td>1</td>\n",
       "      <td>2</td>\n",
       "    </tr>\n",
       "  </tbody>\n",
       "</table>\n",
       "</div>"
      ],
      "text/plain": [
       "             SECID  FACEVALUE  COUPONPERCENT  PRICE_RUB       NKD     PROFIT  \\\n",
       "1154  RU000A1014V7     9000.0          13.25    9067.07  9.874412  10.582092   \n",
       "1484  RU000A101WQ2     1000.0           5.25     947.72  0.545264  10.272414   \n",
       "1568  RU000A1022E6     1000.0          10.00    1002.02  1.647156   8.302837   \n",
       "1497  RU000A101XH9     1000.0           5.55     954.32  1.015763   9.729484   \n",
       "2274  RU000A103WX4     1000.0          12.00    1007.79  0.662656   9.514313   \n",
       "1499  RU000A101XN7     1000.0           6.35     964.19  1.174199   9.310559   \n",
       "806   RU000A1001L5     1000.0          10.25     998.55  1.962903   8.861665   \n",
       "263   RU000A0JVWB3     1000.0           7.00     977.55  0.937377   8.422451   \n",
       "1329  RU000A101MB5     1000.0           6.20     974.37  0.000000   8.166302   \n",
       "1496  RU000A101XE6     1000.0           6.60     977.23  1.413637   8.049545   \n",
       "1078  RU000A100Y84     1000.0           7.00     982.53  1.507443   7.810938   \n",
       "265   RU000A0JVWJ6     1000.0           6.88     983.47  0.370755   7.726377   \n",
       "1518  RU000A101YV8     1000.0          11.50    1023.12  0.000000   7.519157   \n",
       "1978  RU000A103117     1000.0           7.30     976.70  1.172040   8.757583   \n",
       "1330  RU000A101MC3     1000.0           6.70     974.98  0.000000   8.544791   \n",
       "903   RU000A100AN7     1000.0           7.10     976.86  1.330135   8.544337   \n",
       "434   RU000A0JXQ51     1000.0          10.00    1000.14  1.370055   8.536105   \n",
       "1099  RU000A100ZF0     1000.0           7.00     979.89  0.000000   8.267254   \n",
       "424   RU000A0JXPD9     1000.0           8.25     989.13  1.788564   8.159746   \n",
       "546   RU000A0ZYEB1     1000.0           8.95     995.22  1.464200   8.145087   \n",
       "905   RU000A100AZ1     1000.0           9.75    1002.30  1.338688   8.089197   \n",
       "655   RU000A0ZZ4P9     1000.0           7.25     981.99  1.755475   8.064029   \n",
       "411   RU000A0JXLR8     1000.0           6.40     973.23  3.754268   8.054964   \n",
       "215   RU000A0JVC59     1000.0           6.40     974.28  2.733323   8.051751   \n",
       "1327  RU000A101LY9     1000.0           6.75     980.01  0.906174   7.932261   \n",
       "908   RU000A100BB0     1000.0           9.00     999.24  0.492776   7.858822   \n",
       "1089  RU000A100YU2     1000.0           7.25     984.69  0.977946   7.853259   \n",
       "1943  RU000A102VY6     1000.0           8.50     989.48  8.064940   7.659310   \n",
       "1098  RU000A100ZD5     1000.0           7.00     985.89  0.000000   7.608354   \n",
       "\n",
       "      EXPECTED_PROFIT                                        EMITENTNAME  \\\n",
       "1154        12.289990  Общество с ограниченной ответственностью \"Трей...   \n",
       "1484        10.992150  Акционерное общество \"Российский Сельскохозяйс...   \n",
       "1568         9.598087  Общество с ограниченной ответственностью \"Лизи...   \n",
       "1497        10.484716  Публичное акционерное общество \"Россети Москов...   \n",
       "2274        11.061238  Акционерное общество \"Коммерческая недвижимост...   \n",
       "1499        10.165677  Публичное акционерное общество \"Акционерная фи...   \n",
       "806         10.193481  Акционерное общество \"Южноуральский арматурно-...   \n",
       "263          9.352458  Акционерное общество \"Российский Сельскохозяйс...   \n",
       "1329         8.993503        Публичное акционерное общество \"Совкомбанк\"   \n",
       "1496         8.926269  Общество с ограниченной ответственностью \"Совк...   \n",
       "1078         8.735700                 Правительство Белгородской области   \n",
       "265          8.635467  акционерное общество \"Государственная транспор...   \n",
       "1518         8.980374         Акционерное общество \"Позитив Текнолоджиз\"   \n",
       "1978         9.728058  Общество с ограниченной ответственностью \"МВ Ф...   \n",
       "1330         9.438142            Публичное акционерное общество \"Магнит\"   \n",
       "903          9.487917  Публичное акционерное общество \"Московская объ...   \n",
       "434          9.834144              Акционерное общество \"АВТОБАН-Финанс\"   \n",
       "1099         9.195930  Открытое акционерное общество \"Межрегиональная...   \n",
       "424          9.242075  Публичное акционерное общество \"Трубная Металл...   \n",
       "546          9.312458        Публичное акционерное общество \"ТрансФин-М\"   \n",
       "905          9.352102        акционерное общество \"ТрансКомплектХолдинг\"   \n",
       "655          9.022102  открытое акционерное общество \"Российские желе...   \n",
       "411          8.906564  Публичное акционерное общество Банк \"Финансова...   \n",
       "215          8.903326  Публичное акционерное общество Банк \"Финансова...   \n",
       "1327         8.826832        Публичное акционерное общество \"Ростелеком\"   \n",
       "908          9.029135  Публичное акционерное общество \"РУСАЛ Братский...   \n",
       "1089         8.809463             Публичное акционерное общество \"Акрон\"   \n",
       "1943         8.767030  Общество с ограниченной ответственностью  \"Ато...   \n",
       "1098         8.531378  Открытое акционерное общество \"Межрегиональная...   \n",
       "\n",
       "      COUPONFREQUENCY  DURATION_LVL  Cluster_id  \n",
       "1154             12.0             1           0  \n",
       "1484             12.0             1           0  \n",
       "1568             12.0             1           0  \n",
       "1497              4.0             1           2  \n",
       "2274              4.0             1           2  \n",
       "1499              4.0             1           2  \n",
       "806               4.0             0           2  \n",
       "263               4.0             1           2  \n",
       "1329              4.0             1           2  \n",
       "1496              4.0             1           2  \n",
       "1078              4.0             1           2  \n",
       "265               4.0             1           2  \n",
       "1518              4.0             1           2  \n",
       "1978              2.0             1           2  \n",
       "1330              2.0             1           2  \n",
       "903               2.0             1           2  \n",
       "434               2.0             0           2  \n",
       "1099              2.0             1           2  \n",
       "424               2.0             1           2  \n",
       "546               2.0             0           2  \n",
       "905               2.0             0           2  \n",
       "655               2.0             1           2  \n",
       "411               2.0             1           2  \n",
       "215               2.0             1           2  \n",
       "1327              2.0             1           2  \n",
       "908               2.0             0           2  \n",
       "1089              2.0             1           2  \n",
       "1943              2.0             0           2  \n",
       "1098              2.0             1           2  "
      ]
     },
     "execution_count": 73,
     "metadata": {},
     "output_type": "execute_result"
    }
   ],
   "source": [
    "tabl_2 = bond_portfolio.sort_values(by = ['COUPONFREQUENCY', 'PROFIT'], ascending= [False, False])\n",
    "tabl_2"
   ]
  },
  {
   "cell_type": "code",
   "execution_count": 74,
   "id": "fb4e4a18",
   "metadata": {},
   "outputs": [],
   "source": [
    "profit_secid = tabl_1['SECID'].values[0]\n",
    "profit = round(tabl_1['PROFIT'].values[0], 2)\n",
    "profit_couponfrequency = tabl_1['COUPONFREQUENCY'].values[0]\n",
    "profit_emitentname = tabl_1['EMITENTNAME'].values[0] "
   ]
  },
  {
   "cell_type": "markdown",
   "id": "dfdb10d4",
   "metadata": {},
   "source": [
    "В итоговых таблицах выше, предложено 2 возможных варианта ранжирования облигаций, привлекательных для инвестирования, уже внутри рейтингования:\n",
    "\n",
    "- В первой таблице, отобранные облигации представлены по убыванию доходности. Обрезание купона происходит реже, но сам купон больше. За счет высокой доходности облигации компенсируется инфляционный риск. \n",
    "- Во второй таблице, отобранные облигации представлены по убыванию частоты выплаты купона. Обрезание купона происходит чаще, но сам купон меньше. Чем чаще получаем доход, тем фактор инфляции и временной стоимости денег меньше, так же можно выиграть за счет частоты реинвестирования."
   ]
  },
  {
   "cell_type": "code",
   "execution_count": 75,
   "id": "f6c1de03",
   "metadata": {},
   "outputs": [
    {
     "name": "stdout",
     "output_type": "stream",
     "text": [
      "На основании произведенных расчетов, наиболее доходной облигацией на текущую дату в соответствии с предложенным рейтингованием стала  бумага RU000A1014V7 c доходностью 10.58%, с частотой выплаты купона 12.0 раз(а) в год, эмитентом выступает Общество с ограниченной ответственностью \"Трейд Менеджмент\".\n"
     ]
    }
   ],
   "source": [
    "print(f'На основании произведенных расчетов, наиболее доходной облигацией на текущую дату в соответствии \\\n",
    "с предложенным рейтингованием стала  бумага {profit_secid} \\\n",
    "c доходностью {profit}%, с частотой выплаты купона {profit_couponfrequency} раз(а) в год, эмитентом выступает \\\n",
    "{profit_emitentname}.')"
   ]
  }
 ],
 "metadata": {
  "kernelspec": {
   "display_name": "Python 3 (ipykernel)",
   "language": "python",
   "name": "python3"
  },
  "language_info": {
   "codemirror_mode": {
    "name": "ipython",
    "version": 3
   },
   "file_extension": ".py",
   "mimetype": "text/x-python",
   "name": "python",
   "nbconvert_exporter": "python",
   "pygments_lexer": "ipython3",
   "version": "3.8.11"
  }
 },
 "nbformat": 4,
 "nbformat_minor": 5
}
